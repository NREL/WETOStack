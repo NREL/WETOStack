{
 "cells": [
  {
   "cell_type": "code",
   "execution_count": 1,
   "id": "5921efae",
   "metadata": {
    "tags": [
     "hide-cell"
    ]
   },
   "outputs": [],
   "source": [
    "from pathlib import Path\n",
    "import yaml\n",
    "# import altair as alt\n",
    "import datapane as dp\n",
    "import pandas as pd\n",
    "\n",
    "model_list_inputs = yaml.safe_load( open(\"analysis_list.yaml\", \"r\") )\n",
    "models = model_list_inputs[\"active\"]\n",
    "\n",
    "model_attributes_map = {\n",
    "    model: yaml.safe_load( open(Path(\"..\", \"..\", \"software_attributes\", \"database\", f\"{model}.yaml\"), \"r\") )\n",
    "    for model in models\n",
    "}\n",
    "\n",
    "df = pd.DataFrame.from_dict(model_attributes_map, orient=\"index\")\n",
    "# print(list(df.columns))\n",
    "# print(df)"
   ]
  },
  {
   "cell_type": "code",
   "execution_count": 2,
   "id": "af298eb0",
   "metadata": {
    "tags": [
     "hide-input",
     "full-width"
    ]
   },
   "outputs": [
    {
     "name": "stderr",
     "output_type": "stream",
     "text": [
      "/Users/rmudafor/miniconda3/envs/weto/lib/python3.11/site-packages/datapane/common/df_processor.py:26: FutureWarning: pandas.Int64Index is deprecated and will be removed from pandas in a future version. Use pandas.Index with the appropriate dtype instead.\n",
      "  elif isinstance(df.index, pd.Int64Index):\n"
     ]
    },
    {
     "data": {
      "text/html": [
       "<style>\n",
       "  #dp-d011856bd09e413080ea3d1ac9e43280 {\n",
       "    width: 1px;\n",
       "    min-width: 100%;\n",
       "  }\n",
       "</style>\n",
       "<iframe id=\"dp-d011856bd09e413080ea3d1ac9e43280\" srcdoc=\"&lt;!DOCTYPE html&gt;\n",
       "&lt;html lang=&quot;en&quot;&gt;\n",
       "  &lt;head&gt;\n",
       "&lt;meta charset=&quot;UTF-8&quot; /&gt;\n",
       "\n",
       "&lt;link rel=&quot;shortcut icon&quot; type=&quot;image/png&quot; href=&quot;https://datapane-cdn.com/static/v1/datapane-icon-192x192.png&quot;/&gt;\n",
       "&lt;link rel=&quot;shortcut icon&quot; sizes=&quot;192x192&quot; href=&quot;https://datapane-cdn.com/static/v1/datapane-icon-192x192.png&quot;/&gt;\n",
       "&lt;link rel=&quot;apple-touch-icon&quot; href=&quot;https://datapane-cdn.com/static/v1/datapane-icon-192x192.png&quot;/&gt;\n",
       "\n",
       "&lt;script src=&quot;https://kit.fontawesome.com/256c714d9a.js&quot;&gt;&lt;/script&gt;\n",
       "&lt;link\n",
       "  href=&quot;https://fonts.googleapis.com/css?family=Inter:400,500,600,700|Inconsolata|Karla|Rubik&amp;display=swap&quot;\n",
       "  rel=&quot;stylesheet&quot;\n",
       "/&gt;\n",
       "&lt;link rel=&quot;stylesheet&quot; href=&quot;https://datapane-cdn.com/v0.17.0/report/index.css&quot; /&gt;\n",
       "&lt;link rel=&quot;stylesheet&quot; href=&quot;https://datapane-cdn.com/v0.17.0/report/tailwind.css&quot; /&gt;\n",
       "&lt;script&gt;\n",
       "  // analytics config\n",
       "  // TODO -- pass these in as props for consistency?\n",
       "  window.dpAppRunner = false;\n",
       "  window.dpLocal = true;\n",
       "\n",
       "  /* construct the view */\n",
       "  const htmlHeader = `&lt;style type=&quot;text/css&quot;&gt;:root {\n",
       "    --dp-accent-color: #4E46E5;\n",
       "    --dp-bg-color: #FFF;\n",
       "    --dp-text-align: left;\n",
       "    --dp-font-family: Inter, ui-sans-serif, system-ui;\n",
       "}&lt;/style&gt;`;\n",
       "  window.reportProps = { htmlHeader, isLightProse: false, isOrg: false, mode: &quot;VIEW&quot;, reportWidthClass: &quot;max-w-screen-xl&quot; };\n",
       "\n",
       "  if (!window.dpAppRunner) {\n",
       "      // pass app data via props if in local (static) mode, otherwise this data is fetched from the server\n",
       "      window.reportProps[&quot;appData&quot;] = { data: { result: {&quot;view_xml&quot;: &quot;\\u003cView version=\\&quot;1\\&quot; fragment=\\&quot;false\\&quot;\\u003e\\u003cDataTable type=\\&quot;application/vnd.apache.arrow+binary\\&quot; rows=\\&quot;25\\&quot; columns=\\&quot;9\\&quot; schema=\\&quot;[]\\&quot; src=\\&quot;ref://f6b9add8ef\\&quot;/\\u003e\\u003c/View\\u003e&quot;, &quot;assets&quot;: {&quot;f6b9add8ef&quot;: {&quot;src&quot;: &quot;data:application/vnd.apache.arrow+binary;base64,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&quot;, &quot;hash&quot;: &quot;f6b9add8ef&quot;, &quot;size&quot;: 12260, &quot;mime&quot;: &quot;application/vnd.apache.arrow+binary&quot;}}} }};\n",
       "  }\n",
       "&lt;/script&gt;\n",
       "&lt;script type=&quot;module&quot;&gt;\n",
       "  import { mountReport } from &quot;https://datapane-cdn.com/v0.17.0/report/index.es.js&quot;;\n",
       "  mountReport(window.reportProps);\n",
       "&lt;/script&gt;\n",
       "  &lt;/head&gt;\n",
       "  &lt;script&gt;\n",
       "    window.isIPythonEmbed = true;\n",
       "  &lt;/script&gt;\n",
       "  &lt;body&gt;\n",
       "    &lt;main class=&quot;max-w-screen-xl w-full mx-auto&quot;&gt;\n",
       "      &lt;div id=&quot;report&quot; class=&quot;w-full&quot;&gt;&lt;/div&gt;\n",
       "    &lt;/main&gt;\n",
       "    &lt;script src=&quot;https://datapane-cdn.com/v0.17.0/assets/iframeResizer.contentWindow.min.js&quot;&gt;&lt;/script&gt;\n",
       "  &lt;/body&gt;\n",
       "&lt;/html&gt;\n",
       "\" style=\"border: none\">\n",
       "</iframe>\n",
       "<script type=\"module\">\n",
       "  import { iframeResize } from \"https://datapane-cdn.com/v0.17.0/report/index.es.js\";\n",
       "  iframeResize({ log: true, checkOrigin: false }, \"#dp-d011856bd09e413080ea3d1ac9e43280\");\n",
       "</script>\n"
      ],
      "text/plain": [
       "<IPython.core.display.HTML object>"
      ]
     },
     "metadata": {},
     "output_type": "display_data"
    }
   ],
   "source": [
    "general_df = df[[\n",
    "    \"github_account\",\n",
    "    \"github_repo\",\n",
    "    \"primary_uses\",\n",
    "    \"active_funding\",\n",
    "    \"development_status\",\n",
    "    \"programming_language\",\n",
    "    \"license_type\",\n",
    "    \"data_collection_methods\",\n",
    "    \"last_release_date\"\n",
    "]]\n",
    "dp.DataTable(general_df)"
   ]
  },
  {
   "cell_type": "code",
   "execution_count": 3,
   "id": "ce355afd",
   "metadata": {
    "tags": [
     "hide-input",
     "full-width"
    ]
   },
   "outputs": [
    {
     "name": "stderr",
     "output_type": "stream",
     "text": [
      "/Users/rmudafor/miniconda3/envs/weto/lib/python3.11/site-packages/datapane/common/df_processor.py:26: FutureWarning: pandas.Int64Index is deprecated and will be removed from pandas in a future version. Use pandas.Index with the appropriate dtype instead.\n",
      "  elif isinstance(df.index, pd.Int64Index):\n"
     ]
    },
    {
     "data": {
      "text/html": [
       "<style>\n",
       "  #dp-65c23f79f2ca451aa532c4bfb052d373 {\n",
       "    width: 1px;\n",
       "    min-width: 100%;\n",
       "  }\n",
       "</style>\n",
       "<iframe id=\"dp-65c23f79f2ca451aa532c4bfb052d373\" srcdoc=\"&lt;!DOCTYPE html&gt;\n",
       "&lt;html lang=&quot;en&quot;&gt;\n",
       "  &lt;head&gt;\n",
       "&lt;meta charset=&quot;UTF-8&quot; /&gt;\n",
       "\n",
       "&lt;link rel=&quot;shortcut icon&quot; type=&quot;image/png&quot; href=&quot;https://datapane-cdn.com/static/v1/datapane-icon-192x192.png&quot;/&gt;\n",
       "&lt;link rel=&quot;shortcut icon&quot; sizes=&quot;192x192&quot; href=&quot;https://datapane-cdn.com/static/v1/datapane-icon-192x192.png&quot;/&gt;\n",
       "&lt;link rel=&quot;apple-touch-icon&quot; href=&quot;https://datapane-cdn.com/static/v1/datapane-icon-192x192.png&quot;/&gt;\n",
       "\n",
       "&lt;script src=&quot;https://kit.fontawesome.com/256c714d9a.js&quot;&gt;&lt;/script&gt;\n",
       "&lt;link\n",
       "  href=&quot;https://fonts.googleapis.com/css?family=Inter:400,500,600,700|Inconsolata|Karla|Rubik&amp;display=swap&quot;\n",
       "  rel=&quot;stylesheet&quot;\n",
       "/&gt;\n",
       "&lt;link rel=&quot;stylesheet&quot; href=&quot;https://datapane-cdn.com/v0.17.0/report/index.css&quot; /&gt;\n",
       "&lt;link rel=&quot;stylesheet&quot; href=&quot;https://datapane-cdn.com/v0.17.0/report/tailwind.css&quot; /&gt;\n",
       "&lt;script&gt;\n",
       "  // analytics config\n",
       "  // TODO -- pass these in as props for consistency?\n",
       "  window.dpAppRunner = false;\n",
       "  window.dpLocal = true;\n",
       "\n",
       "  /* construct the view */\n",
       "  const htmlHeader = `&lt;style type=&quot;text/css&quot;&gt;:root {\n",
       "    --dp-accent-color: #4E46E5;\n",
       "    --dp-bg-color: #FFF;\n",
       "    --dp-text-align: left;\n",
       "    --dp-font-family: Inter, ui-sans-serif, system-ui;\n",
       "}&lt;/style&gt;`;\n",
       "  window.reportProps = { htmlHeader, isLightProse: false, isOrg: false, mode: &quot;VIEW&quot;, reportWidthClass: &quot;max-w-screen-xl&quot; };\n",
       "\n",
       "  if (!window.dpAppRunner) {\n",
       "      // pass app data via props if in local (static) mode, otherwise this data is fetched from the server\n",
       "      window.reportProps[&quot;appData&quot;] = { data: { result: {&quot;view_xml&quot;: &quot;\\u003cView version=\\&quot;1\\&quot; fragment=\\&quot;false\\&quot;\\u003e\\u003cDataTable type=\\&quot;application/vnd.apache.arrow+binary\\&quot; rows=\\&quot;25\\&quot; columns=\\&quot;6\\&quot; schema=\\&quot;[]\\&quot; src=\\&quot;ref://0b57e40dee\\&quot;/\\u003e\\u003c/View\\u003e&quot;, &quot;assets&quot;: {&quot;0b57e40dee&quot;: {&quot;src&quot;: &quot;data:application/vnd.apache.arrow+binary;base64,QVJST1cxAAD/////uAYAABAAAAAAAAoADgAGAAUACAAKAAAAAAEEABAAAAAAAAoADAAAAAQACAAKAAAAgAQAAAQAAAABAAAADAAAAAgADAAEAAgACAAAAFgEAAAEAAAASgQAAHsiaW5kZXhfY29sdW1ucyI6IFtdLCAiY29sdW1uX2luZGV4ZXMiOiBbXSwgImNvbHVtbnMiOiBbeyJuYW1lIjogImluZGV4IiwgImZpZWxkX25hbWUiOiAiaW5kZXgiLCAicGFuZGFzX3R5cGUiOiAidW5pY29kZSIsICJudW1weV90eXBlIjogInN0cmluZyIsICJtZXRhZGF0YSI6IG51bGx9LCB7Im5hbWUiOiAic2NvcGUiLCAiZmllbGRfbmFtZSI6ICJzY29wZSIsICJwYW5kYXNfdHlwZSI6ICJjYXRlZ29yaWNhbCIsICJudW1weV90eXBlIjogImludDgiLCAibWV0YWRhdGEiOiB7Im51bV9jYXRlZ29yaWVzIjogMTEsICJvcmRlcmVkIjogZmFsc2V9fSwgeyJuYW1lIjogInN5c3RlbV90eXBlIiwgImZpZWxkX25hbWUiOiAic3lzdGVtX3R5cGUiLCAicGFuZGFzX3R5cGUiOiAiY2F0ZWdvcmljYWwiLCAibnVtcHlfdHlwZSI6ICJpbnQ4IiwgIm1ldGFkYXRhIjogeyJudW1fY2F0ZWdvcmllcyI6IDUsICJvcmRlcmVkIjogZmFsc2V9fSwgeyJuYW1lIjogInN5c3RlbV9sb2NhdGlvbiIsICJmaWVsZF9uYW1lIjogInN5c3RlbV9sb2NhdGlvbiIsICJwYW5kYXNfdHlwZSI6ICJjYXRlZ29yaWNhbCIsICJudW1weV90eXBlIjogImludDgiLCAibWV0YWRhdGEiOiB7Im51bV9jYXRlZ29yaWVzIjogNSwgIm9yZGVyZWQiOiBmYWxzZX19LCB7Im5hbWUiOiAidGltZV9kb21haW4iLCAiZmllbGRfbmFtZSI6ICJ0aW1lX2RvbWFpbiIsICJwYW5kYXNfdHlwZSI6ICJjYXRlZ29yaWNhbCIsICJudW1weV90eXBlIjogImludDgiLCAibWV0YWRhdGEiOiB7Im51bV9jYXRlZ29yaWVzIjogNCwgIm9yZGVyZWQiOiBmYWxzZX19LCB7Im5hbWUiOiAibG9hZHMiLCAiZmllbGRfbmFtZSI6ICJsb2FkcyIsICJwYW5kYXNfdHlwZSI6ICJib29sIiwgIm51bXB5X3R5cGUiOiAiYm9vbGVhbiIsICJtZXRhZGF0YSI6IG51bGx9LCB7Im5hbWUiOiAidGFncyIsICJmaWVsZF9uYW1lIjogInRhZ3MiLCAicGFuZGFzX3R5cGUiOiAidW5pY29kZSIsICJudW1weV90eXBlIjogInN0cmluZyIsICJtZXRhZGF0YSI6IG51bGx9XSwgImNyZWF0b3IiOiB7ImxpYnJhcnkiOiAicHlhcnJvdyIsICJ2ZXJzaW9uIjogIjE0LjAuMCJ9LCAicGFuZGFzX3ZlcnNpb24iOiAiMS41LjMifQAABgAAAHBhbmRhcwAABwAAANwBAAB4AQAADAEAALQAAABcAAAAMAAAAAQAAABQ/v//AAABBRAAAAAYAAAABAAAAAAAAAAEAAAAdGFncwAAAABA/v//eP7//wAAAQYQAAAAGAAAAAQAAAAAAAAABQAAAGxvYWRzAAAAaP7//wD///8AAAEFFAAAAEQAAAAkAAAABAAAAAAAAAALAAAAdGltZV9kb21haW4ACAAQAAgABAAIAAAADAAAAAMAAAAAAAAA/P7//wAAAAEIAAAAvP7//1T///8AAAEFFAAAAEQAAAAgAAAABAAAAAAAAAAPAAAAc3lzdGVtX2xvY2F0aW9uALD///8QAAAAAgAAAAAAAAAAAAAAUP///wAAAAEIAAAAEP///6j///8AAAEFFAAAAEgAAAAkAAAABAAAAAAAAAALAAAAc3lzdGVtX3R5cGUACAAUAAgABAAIAAAAEAAAAAEAAAAAAAAAAAAAAKj///8AAAABCAAAAGj///8QABgACAAGAAcADAAQABQAEAAAAAAAAQUUAAAAQAAAACAAAAAEAAAAAAAAAAUAAABzY29wZQAAAAgACAAAAAQACAAAAAwAAAAIAAwACAAHAAgAAAAAAAABCAAAAMj///8QABQACAAGAAcADAAAABAAEAAAAAAAAQUQAAAAHAAAAAQAAAAAAAAABQAAAGluZGV4AAAABAAEAAQAAAD/////qAAAABQAAAAAAAAADAAUAAYABQAIAAwADAAAAAACBAAUAAAAQAEAAAAAAAAIAAoAAAAEAAgAAAAQAAAAAAAKABgADAAEAAgACgAAAEwAAAAQAAAACwAAAAAAAAAAAAAAAwAAAAAAAAAAAAAAAAAAAAAAAAAAAAAAAAAAADAAAAAAAAAAMAAAAAAAAAAOAQAAAAAAAAAAAAABAAAACwAAAAAAAAAAAAAAAAAAAAAAAAAOAAAAIAAAAEsAAABVAAAAdgAAAKEAAAC+AAAA0QAAAO4AAAADAQAADgEAAFsnYXRtb3NwaGVyZSddWydmYXJtJywgJ3N5c3RlbSddWydmYXJtJywgJ3R1cmJpbmUnLCAnYXRtb3NwaGVyZScsICdzeXN0ZW0nXVsnc3lzdGVtJ11bJ3R1cmJpbmUnLCAnZmFybScsICdhdG1vc3BoZXJlJ11bJ3R1cmJpbmUnLCAnZmFybScsICdzeXN0ZW0nLCAnYXRtb3NwaGVyZSddWyd0dXJiaW5lJywgJ2Zhcm0nLCAnc3lzdGVtJ11bJ3R1cmJpbmUnLCAnZmFybSddWyd0dXJiaW5lJywgJ3N5c3RlbScsICdmYXJtJ11bJ3R1cmJpbmUnLCAnc3lzdGVtJ11bJ3R1cmJpbmUnXQAA/////7AAAAAUAAAAAAAAAAwAFAAGAAUACAAMAAwAAAAAAgQAFAAAAGAAAAAAAAAACAASAAgABAAIAAAAGAAAAAEAAAAAAAAAAAAKABgADAAEAAgACgAAAEwAAAAQAAAABQAAAAAAAAAAAAAAAwAAAAAAAAAAAAAAAAAAAAAAAAAAAAAAAAAAABgAAAAAAAAAGAAAAAAAAABGAAAAAAAAAAAAAAABAAAABQAAAAAAAAAAAAAAAAAAAAAAAAAHAAAAFgAAAC4AAAA+AAAARgAAAFsnYW55J11bJ2hhd3QnLCAnYW55J11bJ2hhd3QnLCAndmF3dCcsICdhd2VzJ11bJ2hhd3QnLCAndmF3dCddWydoYXd0J10AAP////+wAAAAFAAAAAAAAAAMABQABgAFAAgADAAMAAAAAAIEABQAAACoAAAAAAAAAAgAEgAIAAQACAAAABgAAAACAAAAAAAAAAAACgAYAAwABAAIAAoAAABMAAAAEAAAAAUAAAAAAAAAAAAAAAMAAAAAAAAAAAAAAAAAAAAAAAAAAAAAAAAAAAAYAAAAAAAAABgAAAAAAAAAiQAAAAAAAAAAAAAAAQAAAAUAAAAAAAAAAAAAAAAAAAAAAAAABwAAABwAAABSAAAAgQAAAIkAAABbJ2FueSddWydmbG9hdGluZ19vZmZzaG9yZSddWydsYW5kJywgJ2ZpeGVkX29mZnNob3JlJywgJ2Zsb2F0aW5nX29mZnNob3JlJywgJ2FueSddWydsYW5kJywgJ2ZpeGVkX29mZnNob3JlJywgJ2Zsb2F0aW5nX29mZnNob3JlJ11bJ2xhbmQnXQAAAAAAAAD/////sAAAABQAAAAAAAAADAAUAAYABQAIAAwADAAAAAACBAAUAAAASAAAAAAAAAAIABIACAAEAAgAAAAYAAAAAwAAAAAAAAAAAAoAGAAMAAQACAAKAAAATAAAABAAAAAEAAAAAAAAAAAAAAADAAAAAAAAAAAAAAAAAAAAAAAAAAAAAAAAAAAAFAAAAAAAAAAYAAAAAAAAAC8AAAAAAAAAAAAAAAEAAAAEAAAAAAAAAAAAAAAAAAAAAAAAAA0AAAAiAAAAKQAAAC8AAAAAAAAAWydmcmVxdWVuY3knXVsnc3RlYWR5JywgJ2R5bmFtaWMnXWR5bmFtaWNzdGVhZHkA/////8gBAAAUAAAAAAAAAAwAFgAGAAUACAAMAAwAAAAAAwQAGAAAAJAMAAAAAAAAAAAKABgADAAEAAgACgAAABwBAAAQAAAAGQAAAAAAAAAAAAAAEAAAAAAAAAAAAAAAAAAAAAAAAAAAAAAAAAAAAGgAAAAAAAAAaAAAAAAAAACbAAAAAAAAAAgBAAAAAAAAAAAAAAAAAAAIAQAAAAAAABkAAAAAAAAAKAEAAAAAAAAEAAAAAAAAADABAAAAAAAAGQAAAAAAAABQAQAAAAAAAAAAAAAAAAAAUAEAAAAAAAAZAAAAAAAAAHABAAAAAAAAAAAAAAAAAABwAQAAAAAAABkAAAAAAAAAkAEAAAAAAAAEAAAAAAAAAJgBAAAAAAAABAAAAAAAAACgAQAAAAAAAAQAAAAAAAAAqAEAAAAAAABoAAAAAAAAABACAAAAAAAAewoAAAAAAAAAAAAABwAAABkAAAAAAAAAAAAAAAAAAAAZAAAAAAAAAAAAAAAAAAAAGQAAAAAAAAABAAAAAAAAABkAAAAAAAAAAAAAAAAAAAAZAAAAAAAAAAAAAAAAAAAAGQAAAAAAAAACAAAAAAAAABkAAAAAAAAAAgAAAAAAAAAAAAAACAAAAA0AAAATAAAAGAAAABsAAAAjAAAAKAAAAC4AAAA2AAAAOgAAAEQAAABKAAAAUwAAAFsAAABhAAAAbAAAAHMAAAB3AAAAfAAAAIIAAACGAAAAjAAAAJIAAACYAAAAmwAAAGFtci13aW5kYW5iYTRkd190YXBkd2luZGVyZmZhc3RmYXJtZmxhc2NmbG9yaXNoZXJjdWxlc2hvcHBtb2FfcHl0aG9ubW9vcnB5bmFsdS13aW5kb3BlbmZhc3RvcGVub2FvcGVudHVyYmluZXB5bnVtYWRyYWZ0cm9zY29zb25hdGF3ZWlzd2luZHNld2lzZGVtd29tYmF0d3RrAAAAAAAECgcGAAIGBQQBAAMACQcKCggKCgoHAwcAAAAAAAAAAO///wEAAAAAAAIAAP8EAQQEAAAAAAMEBAQEBAIEBAQEAAAAAAAAAAAAAwQEAAMCAwMAAAEAAwMAAAEAAwMDAwAAAAAAAAAAAAIBAgICAgMDAgICAAICAgIBAgIBAgEDAwIAAAAAAAAA//39AQAAAAAgvVEAAAAAAP/3/QEAAAAAAAAAAI0AAAATAQAAfQEAAOEBAADTAgAAJAMAALIDAAABBAAAQAQAAM8EAAD5BAAA+QQAAGwFAADVBgAAcAcAAL8HAABfCAAAXwgAAIsIAAC6CAAAHAkAAJEJAADcCQAAFwoAAHsKAABbJ2FkYXB0aXZlIG1lc2ggcmVmaW5lbWVudCcsICdtYXNzaXZlbHkgcGFyYWxsZWwnLCAnYmxvY2stc3RydWN0dXJlZCBhZGFwdGl2ZS1tZXNoJywgJ2luY29tcHJlc3NpYmxlIGZsb3cnLCAnYWN0dWF0b3IgZGlzaycsICdhY3R1YXRvciBsaW5lJ11bJ0VsYXN0aWMgYmVhbScsICdBbmlzb3Ryb3BpYyBiZWFtJywgJ05vbi1ob21vZ2VuZW91cyBiZWFtJywgJ1ByaXNtYXRpYyBiZWFtcycsICdTZW1pLWFuYWx5dGljYWwgYmVhbSBmb3JtdWxhdGlvbicsICdGaW5pdGUgZWxlbWVudHMnXVsnZGlzdHJpYnV0ZWQgd2luZCcsICdvYnN0YWNsZSBtb2RlbGluZycsICdhdG1vc3BoZXJpYyBtb2RlbGluZycsICdyZXNvdXJjZSBlc3RpbWF0aW9uJywgJ3R1cmJpbmcgc2l0aW5nJ11bJ2Rpc3RyaWJ1dGVkIHdpbmQnLCAnZGlzdHJpYnV0ZWQgZnV0dXJlcycsICd0ZWNobmljYWwgcG90ZW50aWFsJywgJ2FubnVhbGl6ZWQgZW5lcmd5IHByb2R1Y3Rpdml0eSddWydhZGFwdGl2ZSBtZXNoIHJlZmluZW1lbnQnLCAnbWFzc2l2ZWx5IHBhcmFsbGVsJywgJ2Jsb2NrLXN0cnVjdHVyZWQgYWRhcHRpdmUtbWVzaCcsICdtb2lzdCBjb21wcmVzc2libGUgZmxvdycsICdwcmVjaXBpdGF0aW9uJywgJ21pY3JvcGh5c2ljcyBzY2hlbWUnLCAncGxhbmV0YXJ5IGJvdW5kYXJ5IGxheWVyIHNjaGVtZScsICdyZWFsIG1ldGVvcm9sb2dpY2FsIGRhdGEgaW5pdGlhbC9ib3VuZGFyeSBjb25kaXRpb25zJ11bJ2R5bmFtaWMgd2FrZSBtZWFuZGVyaW5nJywgJ3BvbGFyIHdha2UnLCAnY3VybGVkIHdha2UnLCAnd2FrZS1hZGRlZCB0dXJidWxlbmNlJ11bJ3N0ZWFkeSBzdGF0ZSBhbmFseXRpY2FsIGVuZ2luZWVyaW5nIG1vZGVscycsICdzY2FkYSBkYXRhIGFuYWx5c2lzJywgJ2ZpbHRlcmluZycsICdlc3RpbWF0aW9uJywgJ3dpbmQgZmFybSB2aXN1YWxpemF0aW9uJywgJ2ZhdWx0IGRldGVjdGlvbiddWydzdGVhZHkgc3RhdGUnLCAnYW5hbHl0aWNhbCB3YWtlIG1vZGVsJywgJ2dhdXNzaWFuIHdha2UnLCAnZW5naW5lZXJpbmcgbW9kZWwnXVsnYW1yLXdpbmQnLCAnbGFyZ2UgZWRkeSBzaW11bGF0aW9uJywgJ3dpbmQgZmFybSBmbG93IGNvbnRyb2wnXVsnaHlicmlkIG9wdGltaXphdGlvbiBwZXJmb3JtYW5jZSBwbGF0Zm9ybScsICdoeWJyaWQgZW5lcmd5IHN5c3RlbSBkZXNpZ24nLCAncmVuZXdhYmxlIGVuZXJneSBwb2xpY3kgYW5hbHlzaXMnLCAnc3lzdGVtIHNpemluZycsICdzeXN0ZW0gY29zdCddWydhbXItd2luZCcsICdoZXJjdWxlcycsICdwb3N0cHJvY2Vzc2luZyddWydsYXJnZSBlZGR5IHNpbXVsYXRpb24nLCAndW5zdHJ1Y3R1cmVkJywgJ21hc3NpdmVseSBwYXJhbGxlbCcsICdpbmNvbXByZXNzaWJsZSBmbG93JywgJ2JsYWRlIHJlc29sdmVkIHNpbXVsYXRpb24nXVsnbW9kdWxhcml6YXRpb24gZnJhbWV3b3JrJywgJ25vbmxpbmVhcicsICdhY3R1YXRvciBsaW5lIG1ldGhvZCcsICdibGFkZSBlbGVtZW50IG1vbWVudHVtIHRoZW9yeScsICdmcmVlIHZvcnRleC13YWtlJywgJ3Vuc3RlYWR5IGFpcmZvaWwgYWVyb2R5bmFtaWNzJywgJ2dlb21ldHJpY2FsbHkgZXhhY3QgYmVhbSB0aGVvcnknLCAnbXVsdGktYm9keScsICdtb2RhbCBkeW5hbWljcycsICdmaW5pdGUgZWxlbWVudCBtZXRob2QnLCAnQ3JhaWctQmFtcHRvbiByZWR1Y3Rpb24nLCAnUG90ZW50aWFsLWZsb3cgdGhlb3J5JywgJ1N0cmlwLXRoZW9yeScsICdvcGVyYXRpbmctcG9pbnQgZGV0ZXJtaW5hdGlvbicsICdsaW5lYXJpemF0aW9uJ11bJ29wZXJhdGlvbmFsIGFuYWx5c2lzJywgJ2dhcCBhbmFseXNpcycsICdhbm51YWwgZW5lcmd5IHByb2R1Y3Rpb24nLCAnbW9udGUgY2FybG8nLCAnbG9uZyB0ZXJtJywgJ3R1cmJpbmUgaWRlYWwgZW5lcmd5JywgJ3dha2UgbG9zc2VzJywgJ21hY2hpbmUgbGVhcm5pbmcnXVsnZ2VvbWV0cmljYWxseSBleGFjdCBiZWFtIHRoZW9yeScsICdub25saW5lYXIgZmluaXRlIGVsZW1lbnRzJywgJ0dQVScsICdDVURBJ11bJ0VsYXN0aWNpdHkgdGhlb3J5JywgJ0V1bGVyIGJlcm5vdWxsaSBiZWFtIHRoZW9yeScsICdUaW1vc2hlbmtvIGJlYW0gdGhlb3J5JywgJ0NsYXNzaWNhbCBsYW1pbmF0ZWQgcGxhdGUgdGhlb3J5JywgJ0ZpcnN0LW9yZGVyIHNoZWFyLWRlZm9ybWF0aW9uIHBsYXRlIHRoZW9yeSddWydSZWZlcmVuY2UgY29udHJvbGxlcicsICdBdXRvbWF0ZWQgdHVuaW5nJ11bJzJEIHBsYW5hciBtZXNoZXMnLCAnc2xlbmRlciBjb21wb3NpdGUgYmVhbXMnXVsnbWlkLWZpZGVsaXR5IGVuZ2luZWVyaW5nIG1vZGVscycsICdtdWx0aWRpc2NpcGxpbmFyeSBkZXNpZ24gb3B0aW1pemF0aW9uJywgJ2NvbnRyb2xzIGNvLWRlc2lnbiddWydzdGVhZHkgc3RhdGUgUmV5bm9sZHMtYXZlcmFnZWQgTmF2aWVyLVN0b2tlcyAoUkFOUyknLCAndW5zdGVhZHksIGxhcmdlLWVkZHkgc2ltdWxhdGlvbnMgKExFUykgdXNpbmcgTmF2aWVyLVN0b2tlcyddWydsb3ctZmlkZWxpdHkgY29uY2VwdHVhbCBtb2RlbHMnLCAnbXVsdGlkaXNjaXBsaW5hcnkgZGVzaWduIG9wdGltaXphdGlvbiddWydvcGVyYXRpb25zIGFuZCBtYWludGVuYW5jZScsICdkaXNjcmV0ZSBldmVudCBzaW11bGF0aW9uJ11bJ3dpbmQgdG9vbGtpdCcsICdhdG1vc3BoZXJpYyBtb2RlbGluZycsICdyZXNvdXJjZSBlc3RpbWF0aW9uJywgJ3dpbmQgaW50ZWdyYXRpb24gbmF0aW9uYWwgZGF0YXNldCddAAAAAAD/////AAAAABAAAAAMABQABgAIAAwAEAAMAAAAAAAEAKAAAAAoAAAABAAAAAEAAAAwDAAAAAAAANABAAAAAAAAkAwAAAAAAAAAAAAABAAAAMgGAAAAAAAAsAAAAAAAAABAAQAAAAAAALgIAAAAAAAAuAAAAAAAAABgAAAAAAAAANAJAAAAAAAAuAAAAAAAAACoAAAAAAAAADALAAAAAAAAuAAAAAAAAABIAAAAAAAAAAAAAAAAAAoADAAAAAQACAAKAAAAgAQAAAQAAAABAAAADAAAAAgADAAEAAgACAAAAFgEAAAEAAAASgQAAHsiaW5kZXhfY29sdW1ucyI6IFtdLCAiY29sdW1uX2luZGV4ZXMiOiBbXSwgImNvbHVtbnMiOiBbeyJuYW1lIjogImluZGV4IiwgImZpZWxkX25hbWUiOiAiaW5kZXgiLCAicGFuZGFzX3R5cGUiOiAidW5pY29kZSIsICJudW1weV90eXBlIjogInN0cmluZyIsICJtZXRhZGF0YSI6IG51bGx9LCB7Im5hbWUiOiAic2NvcGUiLCAiZmllbGRfbmFtZSI6ICJzY29wZSIsICJwYW5kYXNfdHlwZSI6ICJjYXRlZ29yaWNhbCIsICJudW1weV90eXBlIjogImludDgiLCAibWV0YWRhdGEiOiB7Im51bV9jYXRlZ29yaWVzIjogMTEsICJvcmRlcmVkIjogZmFsc2V9fSwgeyJuYW1lIjogInN5c3RlbV90eXBlIiwgImZpZWxkX25hbWUiOiAic3lzdGVtX3R5cGUiLCAicGFuZGFzX3R5cGUiOiAiY2F0ZWdvcmljYWwiLCAibnVtcHlfdHlwZSI6ICJpbnQ4IiwgIm1ldGFkYXRhIjogeyJudW1fY2F0ZWdvcmllcyI6IDUsICJvcmRlcmVkIjogZmFsc2V9fSwgeyJuYW1lIjogInN5c3RlbV9sb2NhdGlvbiIsICJmaWVsZF9uYW1lIjogInN5c3RlbV9sb2NhdGlvbiIsICJwYW5kYXNfdHlwZSI6ICJjYXRlZ29yaWNhbCIsICJudW1weV90eXBlIjogImludDgiLCAibWV0YWRhdGEiOiB7Im51bV9jYXRlZ29yaWVzIjogNSwgIm9yZGVyZWQiOiBmYWxzZX19LCB7Im5hbWUiOiAidGltZV9kb21haW4iLCAiZmllbGRfbmFtZSI6ICJ0aW1lX2RvbWFpbiIsICJwYW5kYXNfdHlwZSI6ICJjYXRlZ29yaWNhbCIsICJudW1weV90eXBlIjogImludDgiLCAibWV0YWRhdGEiOiB7Im51bV9jYXRlZ29yaWVzIjogNCwgIm9yZGVyZWQiOiBmYWxzZX19LCB7Im5hbWUiOiAibG9hZHMiLCAiZmllbGRfbmFtZSI6ICJsb2FkcyIsICJwYW5kYXNfdHlwZSI6ICJib29sIiwgIm51bXB5X3R5cGUiOiAiYm9vbGVhbiIsICJtZXRhZGF0YSI6IG51bGx9LCB7Im5hbWUiOiAidGFncyIsICJmaWVsZF9uYW1lIjogInRhZ3MiLCAicGFuZGFzX3R5cGUiOiAidW5pY29kZSIsICJudW1weV90eXBlIjogInN0cmluZyIsICJtZXRhZGF0YSI6IG51bGx9XSwgImNyZWF0b3IiOiB7ImxpYnJhcnkiOiAicHlhcnJvdyIsICJ2ZXJzaW9uIjogIjE0LjAuMCJ9LCAicGFuZGFzX3ZlcnNpb24iOiAiMS41LjMifQAABgAAAHBhbmRhcwAABwAAANwBAAB4AQAADAEAALQAAABcAAAAMAAAAAQAAABQ/v//AAABBRAAAAAYAAAABAAAAAAAAAAEAAAAdGFncwAAAABA/v//eP7//wAAAQYQAAAAGAAAAAQAAAAAAAAABQAAAGxvYWRzAAAAaP7//wD///8AAAEFFAAAAEQAAAAkAAAABAAAAAAAAAALAAAAdGltZV9kb21haW4ACAAQAAgABAAIAAAADAAAAAMAAAAAAAAA/P7//wAAAAEIAAAAvP7//1T///8AAAEFFAAAAEQAAAAgAAAABAAAAAAAAAAPAAAAc3lzdGVtX2xvY2F0aW9uALD///8QAAAAAgAAAAAAAAAAAAAAUP///wAAAAEIAAAAEP///6j///8AAAEFFAAAAEgAAAAkAAAABAAAAAAAAAALAAAAc3lzdGVtX3R5cGUACAAUAAgABAAIAAAAEAAAAAEAAAAAAAAAAAAAAKj///8AAAABCAAAAGj///8QABgACAAGAAcADAAQABQAEAAAAAAAAQUUAAAAQAAAACAAAAAEAAAAAAAAAAUAAABzY29wZQAAAAgACAAAAAQACAAAAAwAAAAIAAwACAAHAAgAAAAAAAABCAAAAMj///8QABQACAAGAAcADAAAABAAEAAAAAAAAQUQAAAAHAAAAAQAAAAAAAAABQAAAGluZGV4AAAABAAEAAQAAABIBwAAQVJST1cx&quot;, &quot;hash&quot;: &quot;0b57e40dee&quot;, &quot;size&quot;: 11576, &quot;mime&quot;: &quot;application/vnd.apache.arrow+binary&quot;}}} }};\n",
       "  }\n",
       "&lt;/script&gt;\n",
       "&lt;script type=&quot;module&quot;&gt;\n",
       "  import { mountReport } from &quot;https://datapane-cdn.com/v0.17.0/report/index.es.js&quot;;\n",
       "  mountReport(window.reportProps);\n",
       "&lt;/script&gt;\n",
       "  &lt;/head&gt;\n",
       "  &lt;script&gt;\n",
       "    window.isIPythonEmbed = true;\n",
       "  &lt;/script&gt;\n",
       "  &lt;body&gt;\n",
       "    &lt;main class=&quot;max-w-screen-xl w-full mx-auto&quot;&gt;\n",
       "      &lt;div id=&quot;report&quot; class=&quot;w-full&quot;&gt;&lt;/div&gt;\n",
       "    &lt;/main&gt;\n",
       "    &lt;script src=&quot;https://datapane-cdn.com/v0.17.0/assets/iframeResizer.contentWindow.min.js&quot;&gt;&lt;/script&gt;\n",
       "  &lt;/body&gt;\n",
       "&lt;/html&gt;\n",
       "\" style=\"border: none\">\n",
       "</iframe>\n",
       "<script type=\"module\">\n",
       "  import { iframeResize } from \"https://datapane-cdn.com/v0.17.0/report/index.es.js\";\n",
       "  iframeResize({ log: true, checkOrigin: false }, \"#dp-65c23f79f2ca451aa532c4bfb052d373\");\n",
       "</script>\n"
      ],
      "text/plain": [
       "<IPython.core.display.HTML object>"
      ]
     },
     "metadata": {},
     "output_type": "display_data"
    }
   ],
   "source": [
    "modeling_df = df[[\n",
    "    \"scope\",\n",
    "    \"system_type\",\n",
    "    \"system_location\",\n",
    "    \"time_domain\",\n",
    "    \"loads\",\n",
    "    \"tags\",\n",
    "]]\n",
    "dp.DataTable(modeling_df)"
   ]
  },
  {
   "cell_type": "code",
   "execution_count": 4,
   "id": "190e32b5",
   "metadata": {
    "tags": [
     "hide-input",
     "full-width"
    ]
   },
   "outputs": [
    {
     "name": "stderr",
     "output_type": "stream",
     "text": [
      "/Users/rmudafor/miniconda3/envs/weto/lib/python3.11/site-packages/datapane/common/df_processor.py:26: FutureWarning: pandas.Int64Index is deprecated and will be removed from pandas in a future version. Use pandas.Index with the appropriate dtype instead.\n",
      "  elif isinstance(df.index, pd.Int64Index):\n"
     ]
    },
    {
     "data": {
      "text/html": [
       "<style>\n",
       "  #dp-29593e7234614d85b8ea7887c431c52f {\n",
       "    width: 1px;\n",
       "    min-width: 100%;\n",
       "  }\n",
       "</style>\n",
       "<iframe id=\"dp-29593e7234614d85b8ea7887c431c52f\" srcdoc=\"&lt;!DOCTYPE html&gt;\n",
       "&lt;html lang=&quot;en&quot;&gt;\n",
       "  &lt;head&gt;\n",
       "&lt;meta charset=&quot;UTF-8&quot; /&gt;\n",
       "\n",
       "&lt;link rel=&quot;shortcut icon&quot; type=&quot;image/png&quot; href=&quot;https://datapane-cdn.com/static/v1/datapane-icon-192x192.png&quot;/&gt;\n",
       "&lt;link rel=&quot;shortcut icon&quot; sizes=&quot;192x192&quot; href=&quot;https://datapane-cdn.com/static/v1/datapane-icon-192x192.png&quot;/&gt;\n",
       "&lt;link rel=&quot;apple-touch-icon&quot; href=&quot;https://datapane-cdn.com/static/v1/datapane-icon-192x192.png&quot;/&gt;\n",
       "\n",
       "&lt;script src=&quot;https://kit.fontawesome.com/256c714d9a.js&quot;&gt;&lt;/script&gt;\n",
       "&lt;link\n",
       "  href=&quot;https://fonts.googleapis.com/css?family=Inter:400,500,600,700|Inconsolata|Karla|Rubik&amp;display=swap&quot;\n",
       "  rel=&quot;stylesheet&quot;\n",
       "/&gt;\n",
       "&lt;link rel=&quot;stylesheet&quot; href=&quot;https://datapane-cdn.com/v0.17.0/report/index.css&quot; /&gt;\n",
       "&lt;link rel=&quot;stylesheet&quot; href=&quot;https://datapane-cdn.com/v0.17.0/report/tailwind.css&quot; /&gt;\n",
       "&lt;script&gt;\n",
       "  // analytics config\n",
       "  // TODO -- pass these in as props for consistency?\n",
       "  window.dpAppRunner = false;\n",
       "  window.dpLocal = true;\n",
       "\n",
       "  /* construct the view */\n",
       "  const htmlHeader = `&lt;style type=&quot;text/css&quot;&gt;:root {\n",
       "    --dp-accent-color: #4E46E5;\n",
       "    --dp-bg-color: #FFF;\n",
       "    --dp-text-align: left;\n",
       "    --dp-font-family: Inter, ui-sans-serif, system-ui;\n",
       "}&lt;/style&gt;`;\n",
       "  window.reportProps = { htmlHeader, isLightProse: false, isOrg: false, mode: &quot;VIEW&quot;, reportWidthClass: &quot;max-w-screen-xl&quot; };\n",
       "\n",
       "  if (!window.dpAppRunner) {\n",
       "      // pass app data via props if in local (static) mode, otherwise this data is fetched from the server\n",
       "      window.reportProps[&quot;appData&quot;] = { data: { result: {&quot;view_xml&quot;: &quot;\\u003cView version=\\&quot;1\\&quot; fragment=\\&quot;false\\&quot;\\u003e\\u003cDataTable type=\\&quot;application/vnd.apache.arrow+binary\\&quot; rows=\\&quot;25\\&quot; columns=\\&quot;4\\&quot; schema=\\&quot;[]\\&quot; src=\\&quot;ref://767ea96745\\&quot;/\\u003e\\u003c/View\\u003e&quot;, &quot;assets&quot;: {&quot;767ea96745&quot;: {&quot;src&quot;: &quot;data:application/vnd.apache.arrow+binary;base64,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&quot;, &quot;hash&quot;: &quot;767ea96745&quot;, &quot;size&quot;: 6768, &quot;mime&quot;: &quot;application/vnd.apache.arrow+binary&quot;}}} }};\n",
       "  }\n",
       "&lt;/script&gt;\n",
       "&lt;script type=&quot;module&quot;&gt;\n",
       "  import { mountReport } from &quot;https://datapane-cdn.com/v0.17.0/report/index.es.js&quot;;\n",
       "  mountReport(window.reportProps);\n",
       "&lt;/script&gt;\n",
       "  &lt;/head&gt;\n",
       "  &lt;script&gt;\n",
       "    window.isIPythonEmbed = true;\n",
       "  &lt;/script&gt;\n",
       "  &lt;body&gt;\n",
       "    &lt;main class=&quot;max-w-screen-xl w-full mx-auto&quot;&gt;\n",
       "      &lt;div id=&quot;report&quot; class=&quot;w-full&quot;&gt;&lt;/div&gt;\n",
       "    &lt;/main&gt;\n",
       "    &lt;script src=&quot;https://datapane-cdn.com/v0.17.0/assets/iframeResizer.contentWindow.min.js&quot;&gt;&lt;/script&gt;\n",
       "  &lt;/body&gt;\n",
       "&lt;/html&gt;\n",
       "\" style=\"border: none\">\n",
       "</iframe>\n",
       "<script type=\"module\">\n",
       "  import { iframeResize } from \"https://datapane-cdn.com/v0.17.0/report/index.es.js\";\n",
       "  iframeResize({ log: true, checkOrigin: false }, \"#dp-29593e7234614d85b8ea7887c431c52f\");\n",
       "</script>\n"
      ],
      "text/plain": [
       "<IPython.core.display.HTML object>"
      ]
     },
     "metadata": {},
     "output_type": "display_data"
    }
   ],
   "source": [
    "distribution_df = df[[\n",
    "    \"supported_platforms\",\n",
    "    \"package_manager\",\n",
    "    \"package_manager_url\",\n",
    "    \"installation_complexity\",\n",
    "]]\n",
    "dp.DataTable(distribution_df)"
   ]
  },
  {
   "cell_type": "code",
   "execution_count": 5,
   "id": "011bb6db",
   "metadata": {
    "tags": [
     "hide-input",
     "full-width"
    ]
   },
   "outputs": [
    {
     "name": "stderr",
     "output_type": "stream",
     "text": [
      "/Users/rmudafor/miniconda3/envs/weto/lib/python3.11/site-packages/datapane/common/df_processor.py:26: FutureWarning: pandas.Int64Index is deprecated and will be removed from pandas in a future version. Use pandas.Index with the appropriate dtype instead.\n",
      "  elif isinstance(df.index, pd.Int64Index):\n"
     ]
    },
    {
     "data": {
      "text/html": [
       "<style>\n",
       "  #dp-be4ea5eaac1f4c839618d355ac58ff32 {\n",
       "    width: 1px;\n",
       "    min-width: 100%;\n",
       "  }\n",
       "</style>\n",
       "<iframe id=\"dp-be4ea5eaac1f4c839618d355ac58ff32\" srcdoc=\"&lt;!DOCTYPE html&gt;\n",
       "&lt;html lang=&quot;en&quot;&gt;\n",
       "  &lt;head&gt;\n",
       "&lt;meta charset=&quot;UTF-8&quot; /&gt;\n",
       "\n",
       "&lt;link rel=&quot;shortcut icon&quot; type=&quot;image/png&quot; href=&quot;https://datapane-cdn.com/static/v1/datapane-icon-192x192.png&quot;/&gt;\n",
       "&lt;link rel=&quot;shortcut icon&quot; sizes=&quot;192x192&quot; href=&quot;https://datapane-cdn.com/static/v1/datapane-icon-192x192.png&quot;/&gt;\n",
       "&lt;link rel=&quot;apple-touch-icon&quot; href=&quot;https://datapane-cdn.com/static/v1/datapane-icon-192x192.png&quot;/&gt;\n",
       "\n",
       "&lt;script src=&quot;https://kit.fontawesome.com/256c714d9a.js&quot;&gt;&lt;/script&gt;\n",
       "&lt;link\n",
       "  href=&quot;https://fonts.googleapis.com/css?family=Inter:400,500,600,700|Inconsolata|Karla|Rubik&amp;display=swap&quot;\n",
       "  rel=&quot;stylesheet&quot;\n",
       "/&gt;\n",
       "&lt;link rel=&quot;stylesheet&quot; href=&quot;https://datapane-cdn.com/v0.17.0/report/index.css&quot; /&gt;\n",
       "&lt;link rel=&quot;stylesheet&quot; href=&quot;https://datapane-cdn.com/v0.17.0/report/tailwind.css&quot; /&gt;\n",
       "&lt;script&gt;\n",
       "  // analytics config\n",
       "  // TODO -- pass these in as props for consistency?\n",
       "  window.dpAppRunner = false;\n",
       "  window.dpLocal = true;\n",
       "\n",
       "  /* construct the view */\n",
       "  const htmlHeader = `&lt;style type=&quot;text/css&quot;&gt;:root {\n",
       "    --dp-accent-color: #4E46E5;\n",
       "    --dp-bg-color: #FFF;\n",
       "    --dp-text-align: left;\n",
       "    --dp-font-family: Inter, ui-sans-serif, system-ui;\n",
       "}&lt;/style&gt;`;\n",
       "  window.reportProps = { htmlHeader, isLightProse: false, isOrg: false, mode: &quot;VIEW&quot;, reportWidthClass: &quot;max-w-screen-xl&quot; };\n",
       "\n",
       "  if (!window.dpAppRunner) {\n",
       "      // pass app data via props if in local (static) mode, otherwise this data is fetched from the server\n",
       "      window.reportProps[&quot;appData&quot;] = { data: { result: {&quot;view_xml&quot;: &quot;\\u003cView version=\\&quot;1\\&quot; fragment=\\&quot;false\\&quot;\\u003e\\u003cDataTable type=\\&quot;application/vnd.apache.arrow+binary\\&quot; rows=\\&quot;25\\&quot; columns=\\&quot;11\\&quot; schema=\\&quot;[]\\&quot; src=\\&quot;ref://a60387b44d\\&quot;/\\u003e\\u003c/View\\u003e&quot;, &quot;assets&quot;: {&quot;a60387b44d&quot;: {&quot;src&quot;: &quot;data:application/vnd.apache.arrow+binary;base64,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&quot;, &quot;hash&quot;: &quot;a60387b44d&quot;, &quot;size&quot;: 9944, &quot;mime&quot;: &quot;application/vnd.apache.arrow+binary&quot;}}} }};\n",
       "  }\n",
       "&lt;/script&gt;\n",
       "&lt;script type=&quot;module&quot;&gt;\n",
       "  import { mountReport } from &quot;https://datapane-cdn.com/v0.17.0/report/index.es.js&quot;;\n",
       "  mountReport(window.reportProps);\n",
       "&lt;/script&gt;\n",
       "  &lt;/head&gt;\n",
       "  &lt;script&gt;\n",
       "    window.isIPythonEmbed = true;\n",
       "  &lt;/script&gt;\n",
       "  &lt;body&gt;\n",
       "    &lt;main class=&quot;max-w-screen-xl w-full mx-auto&quot;&gt;\n",
       "      &lt;div id=&quot;report&quot; class=&quot;w-full&quot;&gt;&lt;/div&gt;\n",
       "    &lt;/main&gt;\n",
       "    &lt;script src=&quot;https://datapane-cdn.com/v0.17.0/assets/iframeResizer.contentWindow.min.js&quot;&gt;&lt;/script&gt;\n",
       "  &lt;/body&gt;\n",
       "&lt;/html&gt;\n",
       "\" style=\"border: none\">\n",
       "</iframe>\n",
       "<script type=\"module\">\n",
       "  import { iframeResize } from \"https://datapane-cdn.com/v0.17.0/report/index.es.js\";\n",
       "  iframeResize({ log: true, checkOrigin: false }, \"#dp-be4ea5eaac1f4c839618d355ac58ff32\");\n",
       "</script>\n"
      ],
      "text/plain": [
       "<IPython.core.display.HTML object>"
      ]
     },
     "metadata": {},
     "output_type": "display_data"
    }
   ],
   "source": [
    "documentation_df = df[[\n",
    "    \"documentation_url\",\n",
    "    \"has_user_docs\",\n",
    "    \"has_developer_docs\",\n",
    "    \"has_api_docs\",\n",
    "    \"has_cli_docs\",\n",
    "    \"has_installation_docs\",\n",
    "    \"has_getting_started_docs\",\n",
    "    \"has_examples_tutorials\",\n",
    "    \"has_design_intent_statement\",\n",
    "    \"readability\",\n",
    "    \"project_coverage\",\n",
    "]]\n",
    "dp.DataTable(documentation_df)"
   ]
  },
  {
   "cell_type": "code",
   "execution_count": 6,
   "id": "cdd38d7c",
   "metadata": {
    "tags": [
     "hide-input",
     "full-width"
    ]
   },
   "outputs": [
    {
     "name": "stderr",
     "output_type": "stream",
     "text": [
      "/Users/rmudafor/miniconda3/envs/weto/lib/python3.11/site-packages/datapane/common/df_processor.py:26: FutureWarning: pandas.Int64Index is deprecated and will be removed from pandas in a future version. Use pandas.Index with the appropriate dtype instead.\n",
      "  elif isinstance(df.index, pd.Int64Index):\n"
     ]
    },
    {
     "data": {
      "text/html": [
       "<style>\n",
       "  #dp-fe62d11e835947b487b3258961d2e947 {\n",
       "    width: 1px;\n",
       "    min-width: 100%;\n",
       "  }\n",
       "</style>\n",
       "<iframe id=\"dp-fe62d11e835947b487b3258961d2e947\" srcdoc=\"&lt;!DOCTYPE html&gt;\n",
       "&lt;html lang=&quot;en&quot;&gt;\n",
       "  &lt;head&gt;\n",
       "&lt;meta charset=&quot;UTF-8&quot; /&gt;\n",
       "\n",
       "&lt;link rel=&quot;shortcut icon&quot; type=&quot;image/png&quot; href=&quot;https://datapane-cdn.com/static/v1/datapane-icon-192x192.png&quot;/&gt;\n",
       "&lt;link rel=&quot;shortcut icon&quot; sizes=&quot;192x192&quot; href=&quot;https://datapane-cdn.com/static/v1/datapane-icon-192x192.png&quot;/&gt;\n",
       "&lt;link rel=&quot;apple-touch-icon&quot; href=&quot;https://datapane-cdn.com/static/v1/datapane-icon-192x192.png&quot;/&gt;\n",
       "\n",
       "&lt;script src=&quot;https://kit.fontawesome.com/256c714d9a.js&quot;&gt;&lt;/script&gt;\n",
       "&lt;link\n",
       "  href=&quot;https://fonts.googleapis.com/css?family=Inter:400,500,600,700|Inconsolata|Karla|Rubik&amp;display=swap&quot;\n",
       "  rel=&quot;stylesheet&quot;\n",
       "/&gt;\n",
       "&lt;link rel=&quot;stylesheet&quot; href=&quot;https://datapane-cdn.com/v0.17.0/report/index.css&quot; /&gt;\n",
       "&lt;link rel=&quot;stylesheet&quot; href=&quot;https://datapane-cdn.com/v0.17.0/report/tailwind.css&quot; /&gt;\n",
       "&lt;script&gt;\n",
       "  // analytics config\n",
       "  // TODO -- pass these in as props for consistency?\n",
       "  window.dpAppRunner = false;\n",
       "  window.dpLocal = true;\n",
       "\n",
       "  /* construct the view */\n",
       "  const htmlHeader = `&lt;style type=&quot;text/css&quot;&gt;:root {\n",
       "    --dp-accent-color: #4E46E5;\n",
       "    --dp-bg-color: #FFF;\n",
       "    --dp-text-align: left;\n",
       "    --dp-font-family: Inter, ui-sans-serif, system-ui;\n",
       "}&lt;/style&gt;`;\n",
       "  window.reportProps = { htmlHeader, isLightProse: false, isOrg: false, mode: &quot;VIEW&quot;, reportWidthClass: &quot;max-w-screen-xl&quot; };\n",
       "\n",
       "  if (!window.dpAppRunner) {\n",
       "      // pass app data via props if in local (static) mode, otherwise this data is fetched from the server\n",
       "      window.reportProps[&quot;appData&quot;] = { data: { result: {&quot;view_xml&quot;: &quot;\\u003cView version=\\&quot;1\\&quot; fragment=\\&quot;false\\&quot;\\u003e\\u003cDataTable type=\\&quot;application/vnd.apache.arrow+binary\\&quot; rows=\\&quot;25\\&quot; columns=\\&quot;5\\&quot; schema=\\&quot;[]\\&quot; src=\\&quot;ref://fbca4e9c3c\\&quot;/\\u003e\\u003c/View\\u003e&quot;, &quot;assets&quot;: {&quot;fbca4e9c3c&quot;: {&quot;src&quot;: &quot;data:application/vnd.apache.arrow+binary;base64,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&quot;, &quot;hash&quot;: &quot;fbca4e9c3c&quot;, &quot;size&quot;: 4728, &quot;mime&quot;: &quot;application/vnd.apache.arrow+binary&quot;}}} }};\n",
       "  }\n",
       "&lt;/script&gt;\n",
       "&lt;script type=&quot;module&quot;&gt;\n",
       "  import { mountReport } from &quot;https://datapane-cdn.com/v0.17.0/report/index.es.js&quot;;\n",
       "  mountReport(window.reportProps);\n",
       "&lt;/script&gt;\n",
       "  &lt;/head&gt;\n",
       "  &lt;script&gt;\n",
       "    window.isIPythonEmbed = true;\n",
       "  &lt;/script&gt;\n",
       "  &lt;body&gt;\n",
       "    &lt;main class=&quot;max-w-screen-xl w-full mx-auto&quot;&gt;\n",
       "      &lt;div id=&quot;report&quot; class=&quot;w-full&quot;&gt;&lt;/div&gt;\n",
       "    &lt;/main&gt;\n",
       "    &lt;script src=&quot;https://datapane-cdn.com/v0.17.0/assets/iframeResizer.contentWindow.min.js&quot;&gt;&lt;/script&gt;\n",
       "  &lt;/body&gt;\n",
       "&lt;/html&gt;\n",
       "\" style=\"border: none\">\n",
       "</iframe>\n",
       "<script type=\"module\">\n",
       "  import { iframeResize } from \"https://datapane-cdn.com/v0.17.0/report/index.es.js\";\n",
       "  iframeResize({ log: true, checkOrigin: false }, \"#dp-fe62d11e835947b487b3258961d2e947\");\n",
       "</script>\n"
      ],
      "text/plain": [
       "<IPython.core.display.HTML object>"
      ]
     },
     "metadata": {},
     "output_type": "display_data"
    }
   ],
   "source": [
    "testing_df = df[[\n",
    "    \"testing_framework\",\n",
    "    \"continuous_testing\",\n",
    "    \"test_coverage\",\n",
    "    \"test_documentation\",\n",
    "    \"performance_tests\",\n",
    "]]\n",
    "dp.DataTable(testing_df)"
   ]
  },
  {
   "cell_type": "code",
   "execution_count": 7,
   "id": "13227c6e",
   "metadata": {
    "tags": [
     "hide-input",
     "full-width"
    ]
   },
   "outputs": [
    {
     "name": "stderr",
     "output_type": "stream",
     "text": [
      "/Users/rmudafor/miniconda3/envs/weto/lib/python3.11/site-packages/datapane/common/df_processor.py:26: FutureWarning: pandas.Int64Index is deprecated and will be removed from pandas in a future version. Use pandas.Index with the appropriate dtype instead.\n",
      "  elif isinstance(df.index, pd.Int64Index):\n"
     ]
    },
    {
     "data": {
      "text/html": [
       "<style>\n",
       "  #dp-7058821b794147c3bcfefd9c47508f87 {\n",
       "    width: 1px;\n",
       "    min-width: 100%;\n",
       "  }\n",
       "</style>\n",
       "<iframe id=\"dp-7058821b794147c3bcfefd9c47508f87\" srcdoc=\"&lt;!DOCTYPE html&gt;\n",
       "&lt;html lang=&quot;en&quot;&gt;\n",
       "  &lt;head&gt;\n",
       "&lt;meta charset=&quot;UTF-8&quot; /&gt;\n",
       "\n",
       "&lt;link rel=&quot;shortcut icon&quot; type=&quot;image/png&quot; href=&quot;https://datapane-cdn.com/static/v1/datapane-icon-192x192.png&quot;/&gt;\n",
       "&lt;link rel=&quot;shortcut icon&quot; sizes=&quot;192x192&quot; href=&quot;https://datapane-cdn.com/static/v1/datapane-icon-192x192.png&quot;/&gt;\n",
       "&lt;link rel=&quot;apple-touch-icon&quot; href=&quot;https://datapane-cdn.com/static/v1/datapane-icon-192x192.png&quot;/&gt;\n",
       "\n",
       "&lt;script src=&quot;https://kit.fontawesome.com/256c714d9a.js&quot;&gt;&lt;/script&gt;\n",
       "&lt;link\n",
       "  href=&quot;https://fonts.googleapis.com/css?family=Inter:400,500,600,700|Inconsolata|Karla|Rubik&amp;display=swap&quot;\n",
       "  rel=&quot;stylesheet&quot;\n",
       "/&gt;\n",
       "&lt;link rel=&quot;stylesheet&quot; href=&quot;https://datapane-cdn.com/v0.17.0/report/index.css&quot; /&gt;\n",
       "&lt;link rel=&quot;stylesheet&quot; href=&quot;https://datapane-cdn.com/v0.17.0/report/tailwind.css&quot; /&gt;\n",
       "&lt;script&gt;\n",
       "  // analytics config\n",
       "  // TODO -- pass these in as props for consistency?\n",
       "  window.dpAppRunner = false;\n",
       "  window.dpLocal = true;\n",
       "\n",
       "  /* construct the view */\n",
       "  const htmlHeader = `&lt;style type=&quot;text/css&quot;&gt;:root {\n",
       "    --dp-accent-color: #4E46E5;\n",
       "    --dp-bg-color: #FFF;\n",
       "    --dp-text-align: left;\n",
       "    --dp-font-family: Inter, ui-sans-serif, system-ui;\n",
       "}&lt;/style&gt;`;\n",
       "  window.reportProps = { htmlHeader, isLightProse: false, isOrg: false, mode: &quot;VIEW&quot;, reportWidthClass: &quot;max-w-screen-xl&quot; };\n",
       "\n",
       "  if (!window.dpAppRunner) {\n",
       "      // pass app data via props if in local (static) mode, otherwise this data is fetched from the server\n",
       "      window.reportProps[&quot;appData&quot;] = { data: { result: {&quot;view_xml&quot;: &quot;\\u003cView version=\\&quot;1\\&quot; fragment=\\&quot;false\\&quot;\\u003e\\u003cDataTable type=\\&quot;application/vnd.apache.arrow+binary\\&quot; rows=\\&quot;25\\&quot; columns=\\&quot;4\\&quot; schema=\\&quot;[]\\&quot; src=\\&quot;ref://164339afd7\\&quot;/\\u003e\\u003c/View\\u003e&quot;, &quot;assets&quot;: {&quot;164339afd7&quot;: {&quot;src&quot;: &quot;data:application/vnd.apache.arrow+binary;base64,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&quot;, &quot;hash&quot;: &quot;164339afd7&quot;, &quot;size&quot;: 5412, &quot;mime&quot;: &quot;application/vnd.apache.arrow+binary&quot;}}} }};\n",
       "  }\n",
       "&lt;/script&gt;\n",
       "&lt;script type=&quot;module&quot;&gt;\n",
       "  import { mountReport } from &quot;https://datapane-cdn.com/v0.17.0/report/index.es.js&quot;;\n",
       "  mountReport(window.reportProps);\n",
       "&lt;/script&gt;\n",
       "  &lt;/head&gt;\n",
       "  &lt;script&gt;\n",
       "    window.isIPythonEmbed = true;\n",
       "  &lt;/script&gt;\n",
       "  &lt;body&gt;\n",
       "    &lt;main class=&quot;max-w-screen-xl w-full mx-auto&quot;&gt;\n",
       "      &lt;div id=&quot;report&quot; class=&quot;w-full&quot;&gt;&lt;/div&gt;\n",
       "    &lt;/main&gt;\n",
       "    &lt;script src=&quot;https://datapane-cdn.com/v0.17.0/assets/iframeResizer.contentWindow.min.js&quot;&gt;&lt;/script&gt;\n",
       "  &lt;/body&gt;\n",
       "&lt;/html&gt;\n",
       "\" style=\"border: none\">\n",
       "</iframe>\n",
       "<script type=\"module\">\n",
       "  import { iframeResize } from \"https://datapane-cdn.com/v0.17.0/report/index.es.js\";\n",
       "  iframeResize({ log: true, checkOrigin: false }, \"#dp-7058821b794147c3bcfefd9c47508f87\");\n",
       "</script>\n"
      ],
      "text/plain": [
       "<IPython.core.display.HTML object>"
      ]
     },
     "metadata": {},
     "output_type": "display_data"
    }
   ],
   "source": [
    "interfaces_df = df[[\n",
    "    \"first_class_ui\",\n",
    "    \"has_cli\",\n",
    "    \"language_interfaces\",\n",
    "    \"feature_accessibility\",\n",
    "]]\n",
    "dp.DataTable(interfaces_df)"
   ]
  },
  {
   "cell_type": "code",
   "execution_count": 8,
   "id": "ad4e404c",
   "metadata": {
    "tags": [
     "hide-input",
     "full-width"
    ]
   },
   "outputs": [
    {
     "name": "stderr",
     "output_type": "stream",
     "text": [
      "/Users/rmudafor/miniconda3/envs/weto/lib/python3.11/site-packages/datapane/common/df_processor.py:26: FutureWarning: pandas.Int64Index is deprecated and will be removed from pandas in a future version. Use pandas.Index with the appropriate dtype instead.\n",
      "  elif isinstance(df.index, pd.Int64Index):\n"
     ]
    },
    {
     "data": {
      "text/html": [
       "<style>\n",
       "  #dp-62ff665337624799b536698bb1846959 {\n",
       "    width: 1px;\n",
       "    min-width: 100%;\n",
       "  }\n",
       "</style>\n",
       "<iframe id=\"dp-62ff665337624799b536698bb1846959\" srcdoc=\"&lt;!DOCTYPE html&gt;\n",
       "&lt;html lang=&quot;en&quot;&gt;\n",
       "  &lt;head&gt;\n",
       "&lt;meta charset=&quot;UTF-8&quot; /&gt;\n",
       "\n",
       "&lt;link rel=&quot;shortcut icon&quot; type=&quot;image/png&quot; href=&quot;https://datapane-cdn.com/static/v1/datapane-icon-192x192.png&quot;/&gt;\n",
       "&lt;link rel=&quot;shortcut icon&quot; sizes=&quot;192x192&quot; href=&quot;https://datapane-cdn.com/static/v1/datapane-icon-192x192.png&quot;/&gt;\n",
       "&lt;link rel=&quot;apple-touch-icon&quot; href=&quot;https://datapane-cdn.com/static/v1/datapane-icon-192x192.png&quot;/&gt;\n",
       "\n",
       "&lt;script src=&quot;https://kit.fontawesome.com/256c714d9a.js&quot;&gt;&lt;/script&gt;\n",
       "&lt;link\n",
       "  href=&quot;https://fonts.googleapis.com/css?family=Inter:400,500,600,700|Inconsolata|Karla|Rubik&amp;display=swap&quot;\n",
       "  rel=&quot;stylesheet&quot;\n",
       "/&gt;\n",
       "&lt;link rel=&quot;stylesheet&quot; href=&quot;https://datapane-cdn.com/v0.17.0/report/index.css&quot; /&gt;\n",
       "&lt;link rel=&quot;stylesheet&quot; href=&quot;https://datapane-cdn.com/v0.17.0/report/tailwind.css&quot; /&gt;\n",
       "&lt;script&gt;\n",
       "  // analytics config\n",
       "  // TODO -- pass these in as props for consistency?\n",
       "  window.dpAppRunner = false;\n",
       "  window.dpLocal = true;\n",
       "\n",
       "  /* construct the view */\n",
       "  const htmlHeader = `&lt;style type=&quot;text/css&quot;&gt;:root {\n",
       "    --dp-accent-color: #4E46E5;\n",
       "    --dp-bg-color: #FFF;\n",
       "    --dp-text-align: left;\n",
       "    --dp-font-family: Inter, ui-sans-serif, system-ui;\n",
       "}&lt;/style&gt;`;\n",
       "  window.reportProps = { htmlHeader, isLightProse: false, isOrg: false, mode: &quot;VIEW&quot;, reportWidthClass: &quot;max-w-screen-xl&quot; };\n",
       "\n",
       "  if (!window.dpAppRunner) {\n",
       "      // pass app data via props if in local (static) mode, otherwise this data is fetched from the server\n",
       "      window.reportProps[&quot;appData&quot;] = { data: { result: {&quot;view_xml&quot;: &quot;\\u003cView version=\\&quot;1\\&quot; fragment=\\&quot;false\\&quot;\\u003e\\u003cDataTable type=\\&quot;application/vnd.apache.arrow+binary\\&quot; rows=\\&quot;25\\&quot; columns=\\&quot;2\\&quot; schema=\\&quot;[]\\&quot; src=\\&quot;ref://55584a28dc\\&quot;/\\u003e\\u003c/View\\u003e&quot;, &quot;assets&quot;: {&quot;55584a28dc&quot;: {&quot;src&quot;: &quot;data:application/vnd.apache.arrow+binary;base64,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&quot;, &quot;hash&quot;: &quot;55584a28dc&quot;, &quot;size&quot;: 4400, &quot;mime&quot;: &quot;application/vnd.apache.arrow+binary&quot;}}} }};\n",
       "  }\n",
       "&lt;/script&gt;\n",
       "&lt;script type=&quot;module&quot;&gt;\n",
       "  import { mountReport } from &quot;https://datapane-cdn.com/v0.17.0/report/index.es.js&quot;;\n",
       "  mountReport(window.reportProps);\n",
       "&lt;/script&gt;\n",
       "  &lt;/head&gt;\n",
       "  &lt;script&gt;\n",
       "    window.isIPythonEmbed = true;\n",
       "  &lt;/script&gt;\n",
       "  &lt;body&gt;\n",
       "    &lt;main class=&quot;max-w-screen-xl w-full mx-auto&quot;&gt;\n",
       "      &lt;div id=&quot;report&quot; class=&quot;w-full&quot;&gt;&lt;/div&gt;\n",
       "    &lt;/main&gt;\n",
       "    &lt;script src=&quot;https://datapane-cdn.com/v0.17.0/assets/iframeResizer.contentWindow.min.js&quot;&gt;&lt;/script&gt;\n",
       "  &lt;/body&gt;\n",
       "&lt;/html&gt;\n",
       "\" style=\"border: none\">\n",
       "</iframe>\n",
       "<script type=\"module\">\n",
       "  import { iframeResize } from \"https://datapane-cdn.com/v0.17.0/report/index.es.js\";\n",
       "  iframeResize({ log: true, checkOrigin: false }, \"#dp-62ff665337624799b536698bb1846959\");\n",
       "</script>\n"
      ],
      "text/plain": [
       "<IPython.core.display.HTML object>"
      ]
     },
     "metadata": {},
     "output_type": "display_data"
    }
   ],
   "source": [
    "io_df = df[[\n",
    "    \"filetypes\",\n",
    "    \"file_structure_stability\",\n",
    "]]\n",
    "dp.DataTable(io_df)"
   ]
  }
 ],
 "metadata": {
  "jupytext": {
   "formats": "md:myst",
   "text_representation": {
    "extension": ".md",
    "format_name": "myst"
   }
  },
  "kernelspec": {
   "display_name": "Python 3",
   "language": "python",
   "name": "python3"
  },
  "language_info": {
   "codemirror_mode": {
    "name": "ipython",
    "version": 3
   },
   "file_extension": ".py",
   "mimetype": "text/x-python",
   "name": "python",
   "nbconvert_exporter": "python",
   "pygments_lexer": "ipython3",
   "version": "3.11.0"
  },
  "source_map": [
   11,
   27,
   47,
   50,
   65,
   68,
   80,
   83,
   93,
   96,
   113,
   116,
   127,
   130,
   140,
   143
  ]
 },
 "nbformat": 4,
 "nbformat_minor": 5
}