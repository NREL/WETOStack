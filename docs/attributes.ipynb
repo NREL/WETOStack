{
 "cells": [
  {
   "attachments": {},
   "cell_type": "markdown",
   "metadata": {},
   "source": [
    "# Attributes\n",
    "\n",
    "A number of attributes have been identified in order to relate the various tools in the WETO\n",
    "portfolio to each other. The attributes are tabulated below for each tool included in this\n",
    "project. See [](attr_descriptions) for more information on each attribute and how it is\n",
    "obtained."
   ]
  },
  {
   "cell_type": "code",
   "execution_count": 1,
   "metadata": {
    "tags": [
     "hide-cell"
    ]
   },
   "outputs": [
    {
     "data": {
      "text/html": [
       "<style>\n",
       "        .bk-notebook-logo {\n",
       "            display: block;\n",
       "            width: 20px;\n",
       "            height: 20px;\n",
       "            background-image: url(data:image/png;base64,iVBORw0KGgoAAAANSUhEUgAAABQAAAAUCAYAAACNiR0NAAAABHNCSVQICAgIfAhkiAAAAAlwSFlzAAALEgAACxIB0t1+/AAAABx0RVh0U29mdHdhcmUAQWRvYmUgRmlyZXdvcmtzIENTNui8sowAAAOkSURBVDiNjZRtaJVlGMd/1/08zzln5zjP1LWcU9N0NkN8m2CYjpgQYQXqSs0I84OLIC0hkEKoPtiH3gmKoiJDU7QpLgoLjLIQCpEsNJ1vqUOdO7ppbuec5+V+rj4ctwzd8IIbbi6u+8f1539dt3A78eXC7QizUF7gyV1fD1Yqg4JWz84yffhm0qkFqBogB9rM8tZdtwVsPUhWhGcFJngGeWrPzHm5oaMmkfEg1usvLFyc8jLRqDOMru7AyC8saQr7GG7f5fvDeH7Ej8CM66nIF+8yngt6HWaKh7k49Soy9nXurCi1o3qUbS3zWfrYeQDTB/Qj6kX6Ybhw4B+bOYoLKCC9H3Nu/leUTZ1JdRWkkn2ldcCamzrcf47KKXdAJllSlxAOkRgyHsGC/zRday5Qld9DyoM4/q/rUoy/CXh3jzOu3bHUVZeU+DEn8FInkPBFlu3+nW3Nw0mk6vCDiWg8CeJaxEwuHS3+z5RgY+YBR6V1Z1nxSOfoaPa4LASWxxdNp+VWTk7+4vzaou8v8PN+xo+KY2xsw6une2frhw05CTYOmQvsEhjhWjn0bmXPjpE1+kplmmkP3suftwTubK9Vq22qKmrBhpY4jvd5afdRA3wGjFAgcnTK2s4hY0/GPNIb0nErGMCRxWOOX64Z8RAC4oCXdklmEvcL8o0BfkNK4lUg9HTl+oPlQxdNo3Mg4Nv175e/1LDGzZen30MEjRUtmXSfiTVu1kK8W4txyV6BMKlbgk3lMwYCiusNy9fVfvvwMxv8Ynl6vxoByANLTWplvuj/nF9m2+PDtt1eiHPBr1oIfhCChQMBw6Aw0UulqTKZdfVvfG7VcfIqLG9bcldL/+pdWTLxLUy8Qq38heUIjh4XlzZxzQm19lLFlr8vdQ97rjZVOLf8nclzckbcD4wxXMidpX30sFd37Fv/GtwwhzhxGVAprjbg0gCAEeIgwCZyTV2Z1REEW8O4py0wsjeloKoMr6iCY6dP92H6Vw/oTyICIthibxjm/DfN9lVz8IqtqKYLUXfoKVMVQVVJOElGjrnnUt9T9wbgp8AyYKaGlqingHZU/uG2NTZSVqwHQTWkx9hxjkpWDaCg6Ckj5qebgBVbT3V3NNXMSiWSDdGV3hrtzla7J+duwPOToIg42ChPQOQjspnSlp1V+Gjdged7+8UN5CRAV7a5EdFNwCjEaBR27b3W890TE7g24NAP/mMDXRWrGoFPQI9ls/MWO2dWFAar/xcOIImbbpA3zgAAAABJRU5ErkJggg==);\n",
       "        }\n",
       "    </style>\n",
       "    <div>\n",
       "        <a href=\"https://bokeh.org\" target=\"_blank\" class=\"bk-notebook-logo\"></a>\n",
       "        <span id=\"p1001\">Loading BokehJS ...</span>\n",
       "    </div>\n"
      ]
     },
     "metadata": {},
     "output_type": "display_data"
    },
    {
     "data": {
      "application/javascript": "(function(root) {\n  function now() {\n    return new Date();\n  }\n\n  const force = true;\n\n  if (typeof root._bokeh_onload_callbacks === \"undefined\" || force === true) {\n    root._bokeh_onload_callbacks = [];\n    root._bokeh_is_loading = undefined;\n  }\n\nconst JS_MIME_TYPE = 'application/javascript';\n  const HTML_MIME_TYPE = 'text/html';\n  const EXEC_MIME_TYPE = 'application/vnd.bokehjs_exec.v0+json';\n  const CLASS_NAME = 'output_bokeh rendered_html';\n\n  /**\n   * Render data to the DOM node\n   */\n  function render(props, node) {\n    const script = document.createElement(\"script\");\n    node.appendChild(script);\n  }\n\n  /**\n   * Handle when an output is cleared or removed\n   */\n  function handleClearOutput(event, handle) {\n    const cell = handle.cell;\n\n    const id = cell.output_area._bokeh_element_id;\n    const server_id = cell.output_area._bokeh_server_id;\n    // Clean up Bokeh references\n    if (id != null && id in Bokeh.index) {\n      Bokeh.index[id].model.document.clear();\n      delete Bokeh.index[id];\n    }\n\n    if (server_id !== undefined) {\n      // Clean up Bokeh references\n      const cmd_clean = \"from bokeh.io.state import curstate; print(curstate().uuid_to_server['\" + server_id + \"'].get_sessions()[0].document.roots[0]._id)\";\n      cell.notebook.kernel.execute(cmd_clean, {\n        iopub: {\n          output: function(msg) {\n            const id = msg.content.text.trim();\n            if (id in Bokeh.index) {\n              Bokeh.index[id].model.document.clear();\n              delete Bokeh.index[id];\n            }\n          }\n        }\n      });\n      // Destroy server and session\n      const cmd_destroy = \"import bokeh.io.notebook as ion; ion.destroy_server('\" + server_id + \"')\";\n      cell.notebook.kernel.execute(cmd_destroy);\n    }\n  }\n\n  /**\n   * Handle when a new output is added\n   */\n  function handleAddOutput(event, handle) {\n    const output_area = handle.output_area;\n    const output = handle.output;\n\n    // limit handleAddOutput to display_data with EXEC_MIME_TYPE content only\n    if ((output.output_type != \"display_data\") || (!Object.prototype.hasOwnProperty.call(output.data, EXEC_MIME_TYPE))) {\n      return\n    }\n\n    const toinsert = output_area.element.find(\".\" + CLASS_NAME.split(' ')[0]);\n\n    if (output.metadata[EXEC_MIME_TYPE][\"id\"] !== undefined) {\n      toinsert[toinsert.length - 1].firstChild.textContent = output.data[JS_MIME_TYPE];\n      // store reference to embed id on output_area\n      output_area._bokeh_element_id = output.metadata[EXEC_MIME_TYPE][\"id\"];\n    }\n    if (output.metadata[EXEC_MIME_TYPE][\"server_id\"] !== undefined) {\n      const bk_div = document.createElement(\"div\");\n      bk_div.innerHTML = output.data[HTML_MIME_TYPE];\n      const script_attrs = bk_div.children[0].attributes;\n      for (let i = 0; i < script_attrs.length; i++) {\n        toinsert[toinsert.length - 1].firstChild.setAttribute(script_attrs[i].name, script_attrs[i].value);\n        toinsert[toinsert.length - 1].firstChild.textContent = bk_div.children[0].textContent\n      }\n      // store reference to server id on output_area\n      output_area._bokeh_server_id = output.metadata[EXEC_MIME_TYPE][\"server_id\"];\n    }\n  }\n\n  function register_renderer(events, OutputArea) {\n\n    function append_mime(data, metadata, element) {\n      // create a DOM node to render to\n      const toinsert = this.create_output_subarea(\n        metadata,\n        CLASS_NAME,\n        EXEC_MIME_TYPE\n      );\n      this.keyboard_manager.register_events(toinsert);\n      // Render to node\n      const props = {data: data, metadata: metadata[EXEC_MIME_TYPE]};\n      render(props, toinsert[toinsert.length - 1]);\n      element.append(toinsert);\n      return toinsert\n    }\n\n    /* Handle when an output is cleared or removed */\n    events.on('clear_output.CodeCell', handleClearOutput);\n    events.on('delete.Cell', handleClearOutput);\n\n    /* Handle when a new output is added */\n    events.on('output_added.OutputArea', handleAddOutput);\n\n    /**\n     * Register the mime type and append_mime function with output_area\n     */\n    OutputArea.prototype.register_mime_type(EXEC_MIME_TYPE, append_mime, {\n      /* Is output safe? */\n      safe: true,\n      /* Index of renderer in `output_area.display_order` */\n      index: 0\n    });\n  }\n\n  // register the mime type if in Jupyter Notebook environment and previously unregistered\n  if (root.Jupyter !== undefined) {\n    const events = require('base/js/events');\n    const OutputArea = require('notebook/js/outputarea').OutputArea;\n\n    if (OutputArea.prototype.mime_types().indexOf(EXEC_MIME_TYPE) == -1) {\n      register_renderer(events, OutputArea);\n    }\n  }\n  if (typeof (root._bokeh_timeout) === \"undefined\" || force === true) {\n    root._bokeh_timeout = Date.now() + 5000;\n    root._bokeh_failed_load = false;\n  }\n\n  const NB_LOAD_WARNING = {'data': {'text/html':\n     \"<div style='background-color: #fdd'>\\n\"+\n     \"<p>\\n\"+\n     \"BokehJS does not appear to have successfully loaded. If loading BokehJS from CDN, this \\n\"+\n     \"may be due to a slow or bad network connection. Possible fixes:\\n\"+\n     \"</p>\\n\"+\n     \"<ul>\\n\"+\n     \"<li>re-rerun `output_notebook()` to attempt to load from CDN again, or</li>\\n\"+\n     \"<li>use INLINE resources instead, as so:</li>\\n\"+\n     \"</ul>\\n\"+\n     \"<code>\\n\"+\n     \"from bokeh.resources import INLINE\\n\"+\n     \"output_notebook(resources=INLINE)\\n\"+\n     \"</code>\\n\"+\n     \"</div>\"}};\n\n  function display_loaded() {\n    const el = document.getElementById(\"p1001\");\n    if (el != null) {\n      el.textContent = \"BokehJS is loading...\";\n    }\n    if (root.Bokeh !== undefined) {\n      if (el != null) {\n        el.textContent = \"BokehJS \" + root.Bokeh.version + \" successfully loaded.\";\n      }\n    } else if (Date.now() < root._bokeh_timeout) {\n      setTimeout(display_loaded, 100)\n    }\n  }\n\n  function run_callbacks() {\n    try {\n      root._bokeh_onload_callbacks.forEach(function(callback) {\n        if (callback != null)\n          callback();\n      });\n    } finally {\n      delete root._bokeh_onload_callbacks\n    }\n    console.debug(\"Bokeh: all callbacks have finished\");\n  }\n\n  function load_libs(css_urls, js_urls, callback) {\n    if (css_urls == null) css_urls = [];\n    if (js_urls == null) js_urls = [];\n\n    root._bokeh_onload_callbacks.push(callback);\n    if (root._bokeh_is_loading > 0) {\n      console.debug(\"Bokeh: BokehJS is being loaded, scheduling callback at\", now());\n      return null;\n    }\n    if (js_urls == null || js_urls.length === 0) {\n      run_callbacks();\n      return null;\n    }\n    console.debug(\"Bokeh: BokehJS not loaded, scheduling load and callback at\", now());\n    root._bokeh_is_loading = css_urls.length + js_urls.length;\n\n    function on_load() {\n      root._bokeh_is_loading--;\n      if (root._bokeh_is_loading === 0) {\n        console.debug(\"Bokeh: all BokehJS libraries/stylesheets loaded\");\n        run_callbacks()\n      }\n    }\n\n    function on_error(url) {\n      console.error(\"failed to load \" + url);\n    }\n\n    for (let i = 0; i < css_urls.length; i++) {\n      const url = css_urls[i];\n      const element = document.createElement(\"link\");\n      element.onload = on_load;\n      element.onerror = on_error.bind(null, url);\n      element.rel = \"stylesheet\";\n      element.type = \"text/css\";\n      element.href = url;\n      console.debug(\"Bokeh: injecting link tag for BokehJS stylesheet: \", url);\n      document.body.appendChild(element);\n    }\n\n    for (let i = 0; i < js_urls.length; i++) {\n      const url = js_urls[i];\n      const element = document.createElement('script');\n      element.onload = on_load;\n      element.onerror = on_error.bind(null, url);\n      element.async = false;\n      element.src = url;\n      console.debug(\"Bokeh: injecting script tag for BokehJS library: \", url);\n      document.head.appendChild(element);\n    }\n  };\n\n  function inject_raw_css(css) {\n    const element = document.createElement(\"style\");\n    element.appendChild(document.createTextNode(css));\n    document.body.appendChild(element);\n  }\n\n  const js_urls = [\"https://cdn.bokeh.org/bokeh/release/bokeh-3.1.0.min.js\", \"https://cdn.bokeh.org/bokeh/release/bokeh-gl-3.1.0.min.js\", \"https://cdn.bokeh.org/bokeh/release/bokeh-widgets-3.1.0.min.js\", \"https://cdn.bokeh.org/bokeh/release/bokeh-tables-3.1.0.min.js\", \"https://cdn.bokeh.org/bokeh/release/bokeh-mathjax-3.1.0.min.js\"];\n  const css_urls = [];\n\n  const inline_js = [    function(Bokeh) {\n      Bokeh.set_log_level(\"info\");\n    },\nfunction(Bokeh) {\n    }\n  ];\n\n  function run_inline_js() {\n    if (root.Bokeh !== undefined || force === true) {\n          for (let i = 0; i < inline_js.length; i++) {\n      inline_js[i].call(root, root.Bokeh);\n    }\nif (force === true) {\n        display_loaded();\n      }} else if (Date.now() < root._bokeh_timeout) {\n      setTimeout(run_inline_js, 100);\n    } else if (!root._bokeh_failed_load) {\n      console.log(\"Bokeh: BokehJS failed to load within specified timeout.\");\n      root._bokeh_failed_load = true;\n    } else if (force !== true) {\n      const cell = $(document.getElementById(\"p1001\")).parents('.cell').data().cell;\n      cell.output_area.append_execute_result(NB_LOAD_WARNING)\n    }\n  }\n\n  if (root._bokeh_is_loading === 0) {\n    console.debug(\"Bokeh: BokehJS loaded, going straight to plotting\");\n    run_inline_js();\n  } else {\n    load_libs(css_urls, js_urls, function() {\n      console.debug(\"Bokeh: BokehJS plotting callback run at\", now());\n      run_inline_js();\n    });\n  }\n}(window));",
      "application/vnd.bokehjs_load.v0+json": ""
     },
     "metadata": {},
     "output_type": "display_data"
    }
   ],
   "source": [
    "from datetime import date\n",
    "import yaml\n",
    "from bokeh.io import show, output_notebook\n",
    "from bokeh.models import ColumnDataSource, DataTable, DateFormatter, TableColumn\n",
    "\n",
    "output_notebook()\n",
    "\n",
    "# project_metadata = len(projects) * [None]\n",
    "\n",
    "# # Get all project metadata\n",
    "# for project in projects:\n",
    "#     yaml.l\n",
    "\n",
    "# # Retrieve the file content from the URL\n",
    "# response = requests.get(url, allow_redirects=True)\n",
    "# # Convert bytes to string\n",
    "# content = response.content.decode(\"utf-8\")\n",
    "# # Load the yaml\n",
    "# content = yaml.safe_load(content)\n",
    "\n",
    "# from ghapi.all import GhApi\n",
    "\n",
    "# api = GhApi(owner=\"\", repo=\"\")\n",
    "\n",
    "def create_field_name(field_string) -> str:\n",
    "    parts = field_string.split('_')\n",
    "    capitalized = [part.capitalize() for part in parts]\n",
    "    name = ' '.join(capitalized)\n",
    "    return name\n",
    "\n",
    "def create_data_table(fields: list[str]) -> DataTable:\n",
    "    columns = [\n",
    "        TableColumn(field=field, title=create_field_name(field))\n",
    "        for field in fields\n",
    "    ]\n",
    "    data_table = DataTable(\n",
    "        index_position=None,\n",
    "        source=source,\n",
    "        columns=columns,\n",
    "        # width=400,\n",
    "        # height=280,\n",
    "    )\n",
    "    return data_table\n",
    "\n",
    "projects = yaml.load(open(\"../weto_software.yaml\"), yaml.SafeLoader)\n",
    "data = {\n",
    "    # General\n",
    "    \"project_name\": [project for project, data in projects.items()],\n",
    "    \"github_account\": [data[\"github_account\"] for project, data in projects.items()],\n",
    "    \"github_repo\": [data[\"github_repo\"] for project, data in projects.items()],\n",
    "    \"primary_use\": [data[\"primary_use\"] for project, data in projects.items()],\n",
    "    \"active_funding\": [data[\"active_funding\"] for project, data in projects.items()],\n",
    "\n",
    "    # Physics\n",
    "    \"time_domain\": [data[\"time_domain\"] for project, data in projects.items()],\n",
    "    \"physics_scope\": [data[\"physics_scope\"] for project, data in projects.items()],\n",
    "    \"system_type\": [data[\"physics_scope\"] for project, data in projects.items()],\n",
    "    \"system_location\": [data[\"system_location\"] for project, data in projects.items()],\n",
    "    \"loads\": [data[\"loads\"] for project, data in projects.items()],\n",
    "    \"governing_equations\": [data[\"governing_equations\"] for project, data in projects.items()],\n",
    "\n",
    "    # Distribution\n",
    "    \"supported_platforms\": [data[\"supported_platforms\"] for project, data in projects.items()],\n",
    "    \"package_manager\": [data[\"package_manager\"] for project, data in projects.items()],\n",
    "    \"package_manager_url\": [data[\"package_manager_url\"] for project, data in projects.items()],\n",
    "    \"installation_complexity\": [data[\"installation_complexity\"] for project, data in projects.items()],\n",
    "\n",
    "    # Documentation\n",
    "    \"documentation_url\": [data[\"documentation_url\"] for project, data in projects.items()],\n",
    "    \"user_docs\": [data[\"user_docs\"] for project, data in projects.items()],\n",
    "    \"developer_docs\": [data[\"developer_docs\"] for project, data in projects.items()],\n",
    "    \"api_docs\": [data[\"api_docs\"] for project, data in projects.items()],\n",
    "    \"cli\": [data[\"cli\"] for project, data in projects.items()],\n",
    "    \"installation\": [data[\"installation\"] for project, data in projects.items()],\n",
    "    \"getting_started\": [data[\"getting_started\"] for project, data in projects.items()],\n",
    "    \"examples_tutorials\": [data[\"examples_tutorials\"] for project, data in projects.items()],\n",
    "    \"readability\": [data[\"readability\"] for project, data in projects.items()],\n",
    "    \"project_coverage\": [data[\"project_coverage\"] for project, data in projects.items()],\n",
    "}\n",
    "source = ColumnDataSource(data=data)"
   ]
  },
  {
   "cell_type": "markdown",
   "metadata": {},
   "source": [
    "## General"
   ]
  },
  {
   "cell_type": "code",
   "execution_count": 2,
   "metadata": {
    "tags": [
     "hide-input"
    ]
   },
   "outputs": [
    {
     "data": {
      "text/html": [
       "\n",
       "  <div id=\"7a7172af-ea4b-42c9-96f5-80254b34f5d5\" data-root-id=\"p1020\" style=\"display: contents;\"></div>\n"
      ]
     },
     "metadata": {},
     "output_type": "display_data"
    },
    {
     "data": {
      "application/javascript": "(function(root) {\n  function embed_document(root) {\n  const docs_json = {\"78fde79e-76c7-422b-9d97-280dc34264f6\":{\"version\":\"3.1.0\",\"title\":\"Bokeh Application\",\"defs\":[],\"roots\":[{\"type\":\"object\",\"name\":\"DataTable\",\"id\":\"p1020\",\"attributes\":{\"source\":{\"type\":\"object\",\"name\":\"ColumnDataSource\",\"id\":\"p1002\",\"attributes\":{\"selected\":{\"type\":\"object\",\"name\":\"Selection\",\"id\":\"p1004\",\"attributes\":{\"indices\":[],\"line_indices\":[]}},\"selection_policy\":{\"type\":\"object\",\"name\":\"UnionRenderers\",\"id\":\"p1003\"},\"data\":{\"type\":\"map\",\"entries\":[[\"project_name\",[\"FLORIS\",\"FLASC\",\"OpenFAST\",\"WEIS\"]],[\"github_account\",[\"nrel\",\"nrel\",\"openfast\",\"wisdem\"]],[\"github_repo\",[\"floris\",\"flasc\",\"openfast\",\"weis\"]],[\"primary_use\",[\"physics\",\"data analysis\",\"physics\",\"design\"]],[\"active_funding\",[true,true,true,true]],[\"time_domain\",[\"steady\",null,\"unsteady\",\"unsteady\"]],[\"physics_scope\",[[\"farm\"],null,\"turbine\",\"turbine\"]],[\"system_type\",[[\"farm\"],null,\"turbine\",\"turbine\"]],[\"system_location\",[\"any\",null,[\"any\"],[\"any\"]]],[\"loads\",[false,null,[true],[true]]],[\"governing_equations\",[[\"steady-state analytical fluid dynamics\"],null,[\"Blade Element Momentum Theory\",\"Geomtrically Exact Beam Theory\",\"Engineering models\"],null]],[\"supported_platforms\",[[\"any\"],[\"any\"],[\"any\"],[\"macOS\",\"Linux\"]]],[\"package_manager\",[[\"PyPI\",\"conda-forge\"],[\"PyPI\"],[\"Homebrew\",\"conda-forge\"],null]],[\"package_manager_url\",[[\"https://PyPI.org/project/FLORIS/\",\"https://anaconda.org/conda-forge/floris\"],[\"https://PyPI.org/project/FlASC/\"],[\"https://formulae.brew.sh/formula/openfast\",\"https://anaconda.org/conda-forge/openfast\"],null]],[\"installation_complexity\",[1,1,1,5]],[\"documentation_url\",[\"https://nrel.github.io/floris/intro.html\",\"https://flasc.readthedocs.io/\",\"https://openfast.readthedocs.io/\",\"https://weis.readthedocs.io/en/latest/\"]],[\"user_docs\",[true,true,true,false]],[\"developer_docs\",[true,false,false,false]],[\"api_docs\",[true,false,false,false]],[\"cli\",[false,false,true,false]],[\"installation\",[true,true,true,true]],[\"getting_started\",[true,true,false,false]],[\"examples_tutorials\",[true,true,false,true]],[\"readability\",[7,null,5,null]],[\"project_coverage\",[8,null,6,null]]]}}},\"view\":{\"type\":\"object\",\"name\":\"CDSView\",\"id\":\"p1024\",\"attributes\":{\"filter\":{\"type\":\"object\",\"name\":\"AllIndices\",\"id\":\"p1025\"}}},\"columns\":[{\"type\":\"object\",\"name\":\"TableColumn\",\"id\":\"p1005\",\"attributes\":{\"field\":\"project_name\",\"title\":\"Project Name\",\"formatter\":{\"type\":\"object\",\"name\":\"StringFormatter\",\"id\":\"p1006\"},\"editor\":{\"type\":\"object\",\"name\":\"StringEditor\",\"id\":\"p1007\"}}},{\"type\":\"object\",\"name\":\"TableColumn\",\"id\":\"p1008\",\"attributes\":{\"field\":\"github_account\",\"title\":\"Github Account\",\"formatter\":{\"type\":\"object\",\"name\":\"StringFormatter\",\"id\":\"p1009\"},\"editor\":{\"type\":\"object\",\"name\":\"StringEditor\",\"id\":\"p1010\"}}},{\"type\":\"object\",\"name\":\"TableColumn\",\"id\":\"p1011\",\"attributes\":{\"field\":\"github_repo\",\"title\":\"Github Repo\",\"formatter\":{\"type\":\"object\",\"name\":\"StringFormatter\",\"id\":\"p1012\"},\"editor\":{\"type\":\"object\",\"name\":\"StringEditor\",\"id\":\"p1013\"}}},{\"type\":\"object\",\"name\":\"TableColumn\",\"id\":\"p1014\",\"attributes\":{\"field\":\"primary_use\",\"title\":\"Primary Use\",\"formatter\":{\"type\":\"object\",\"name\":\"StringFormatter\",\"id\":\"p1015\"},\"editor\":{\"type\":\"object\",\"name\":\"StringEditor\",\"id\":\"p1016\"}}},{\"type\":\"object\",\"name\":\"TableColumn\",\"id\":\"p1017\",\"attributes\":{\"field\":\"active_funding\",\"title\":\"Active Funding\",\"formatter\":{\"type\":\"object\",\"name\":\"StringFormatter\",\"id\":\"p1018\"},\"editor\":{\"type\":\"object\",\"name\":\"StringEditor\",\"id\":\"p1019\"}}}],\"index_position\":null}}],\"callbacks\":{\"type\":\"map\"}}};\n  const render_items = [{\"docid\":\"78fde79e-76c7-422b-9d97-280dc34264f6\",\"roots\":{\"p1020\":\"7a7172af-ea4b-42c9-96f5-80254b34f5d5\"},\"root_ids\":[\"p1020\"]}];\n  root.Bokeh.embed.embed_items_notebook(docs_json, render_items);\n  }\n  if (root.Bokeh !== undefined) {\n    embed_document(root);\n  } else {\n    let attempts = 0;\n    const timer = setInterval(function(root) {\n      if (root.Bokeh !== undefined) {\n        clearInterval(timer);\n        embed_document(root);\n      } else {\n        attempts++;\n        if (attempts > 100) {\n          clearInterval(timer);\n          console.log(\"Bokeh: ERROR: Unable to run BokehJS code because BokehJS library is missing\");\n        }\n      }\n    }, 10, root)\n  }\n})(window);",
      "application/vnd.bokehjs_exec.v0+json": ""
     },
     "metadata": {
      "application/vnd.bokehjs_exec.v0+json": {
       "id": "p1020"
      }
     },
     "output_type": "display_data"
    }
   ],
   "source": [
    "data_table = create_data_table([\"project_name\",  \"github_account\",  \"github_repo\",  \"primary_use\",  \"active_funding\"])\n",
    "show(data_table)"
   ]
  },
  {
   "cell_type": "markdown",
   "metadata": {},
   "source": [
    "## Physics modeled"
   ]
  },
  {
   "cell_type": "code",
   "execution_count": 3,
   "metadata": {
    "tags": [
     "hide-input"
    ]
   },
   "outputs": [
    {
     "data": {
      "text/html": [
       "\n",
       "  <div id=\"2b7b1118-2693-4f2e-9907-52667d058763\" data-root-id=\"p1137\" style=\"display: contents;\"></div>\n"
      ]
     },
     "metadata": {},
     "output_type": "display_data"
    },
    {
     "data": {
      "application/javascript": "(function(root) {\n  function embed_document(root) {\n  const docs_json = {\"c59ff363-133a-4bc1-97ca-261540b95dd3\":{\"version\":\"3.1.0\",\"title\":\"Bokeh Application\",\"defs\":[],\"roots\":[{\"type\":\"object\",\"name\":\"DataTable\",\"id\":\"p1137\",\"attributes\":{\"source\":{\"type\":\"object\",\"name\":\"ColumnDataSource\",\"id\":\"p1002\",\"attributes\":{\"selected\":{\"type\":\"object\",\"name\":\"Selection\",\"id\":\"p1004\",\"attributes\":{\"indices\":[],\"line_indices\":[]}},\"selection_policy\":{\"type\":\"object\",\"name\":\"UnionRenderers\",\"id\":\"p1003\"},\"data\":{\"type\":\"map\",\"entries\":[[\"project_name\",[\"FLORIS\",\"FLASC\",\"OpenFAST\",\"WEIS\"]],[\"github_account\",[\"nrel\",\"nrel\",\"openfast\",\"wisdem\"]],[\"github_repo\",[\"floris\",\"flasc\",\"openfast\",\"weis\"]],[\"primary_use\",[\"physics\",\"data analysis\",\"physics\",\"design\"]],[\"active_funding\",[true,true,true,true]],[\"time_domain\",[\"steady\",null,\"unsteady\",\"unsteady\"]],[\"physics_scope\",[[\"farm\"],null,\"turbine\",\"turbine\"]],[\"system_type\",[[\"farm\"],null,\"turbine\",\"turbine\"]],[\"system_location\",[\"any\",null,[\"any\"],[\"any\"]]],[\"loads\",[false,null,[true],[true]]],[\"governing_equations\",[[\"steady-state analytical fluid dynamics\"],null,[\"Blade Element Momentum Theory\",\"Geomtrically Exact Beam Theory\",\"Engineering models\"],null]],[\"supported_platforms\",[[\"any\"],[\"any\"],[\"any\"],[\"macOS\",\"Linux\"]]],[\"package_manager\",[[\"PyPI\",\"conda-forge\"],[\"PyPI\"],[\"Homebrew\",\"conda-forge\"],null]],[\"package_manager_url\",[[\"https://PyPI.org/project/FLORIS/\",\"https://anaconda.org/conda-forge/floris\"],[\"https://PyPI.org/project/FlASC/\"],[\"https://formulae.brew.sh/formula/openfast\",\"https://anaconda.org/conda-forge/openfast\"],null]],[\"installation_complexity\",[1,1,1,5]],[\"documentation_url\",[\"https://nrel.github.io/floris/intro.html\",\"https://flasc.readthedocs.io/\",\"https://openfast.readthedocs.io/\",\"https://weis.readthedocs.io/en/latest/\"]],[\"user_docs\",[true,true,true,false]],[\"developer_docs\",[true,false,false,false]],[\"api_docs\",[true,false,false,false]],[\"cli\",[false,false,true,false]],[\"installation\",[true,true,true,true]],[\"getting_started\",[true,true,false,false]],[\"examples_tutorials\",[true,true,false,true]],[\"readability\",[7,null,5,null]],[\"project_coverage\",[8,null,6,null]]]}}},\"view\":{\"type\":\"object\",\"name\":\"CDSView\",\"id\":\"p1141\",\"attributes\":{\"filter\":{\"type\":\"object\",\"name\":\"AllIndices\",\"id\":\"p1142\"}}},\"columns\":[{\"type\":\"object\",\"name\":\"TableColumn\",\"id\":\"p1116\",\"attributes\":{\"field\":\"project_name\",\"title\":\"Project Name\",\"formatter\":{\"type\":\"object\",\"name\":\"StringFormatter\",\"id\":\"p1117\"},\"editor\":{\"type\":\"object\",\"name\":\"StringEditor\",\"id\":\"p1118\"}}},{\"type\":\"object\",\"name\":\"TableColumn\",\"id\":\"p1119\",\"attributes\":{\"field\":\"time_domain\",\"title\":\"Time Domain\",\"formatter\":{\"type\":\"object\",\"name\":\"StringFormatter\",\"id\":\"p1120\"},\"editor\":{\"type\":\"object\",\"name\":\"StringEditor\",\"id\":\"p1121\"}}},{\"type\":\"object\",\"name\":\"TableColumn\",\"id\":\"p1122\",\"attributes\":{\"field\":\"physics_scope\",\"title\":\"Physics Scope\",\"formatter\":{\"type\":\"object\",\"name\":\"StringFormatter\",\"id\":\"p1123\"},\"editor\":{\"type\":\"object\",\"name\":\"StringEditor\",\"id\":\"p1124\"}}},{\"type\":\"object\",\"name\":\"TableColumn\",\"id\":\"p1125\",\"attributes\":{\"field\":\"system_type\",\"title\":\"System Type\",\"formatter\":{\"type\":\"object\",\"name\":\"StringFormatter\",\"id\":\"p1126\"},\"editor\":{\"type\":\"object\",\"name\":\"StringEditor\",\"id\":\"p1127\"}}},{\"type\":\"object\",\"name\":\"TableColumn\",\"id\":\"p1128\",\"attributes\":{\"field\":\"system_location\",\"title\":\"System Location\",\"formatter\":{\"type\":\"object\",\"name\":\"StringFormatter\",\"id\":\"p1129\"},\"editor\":{\"type\":\"object\",\"name\":\"StringEditor\",\"id\":\"p1130\"}}},{\"type\":\"object\",\"name\":\"TableColumn\",\"id\":\"p1131\",\"attributes\":{\"field\":\"loads\",\"title\":\"Loads\",\"formatter\":{\"type\":\"object\",\"name\":\"StringFormatter\",\"id\":\"p1132\"},\"editor\":{\"type\":\"object\",\"name\":\"StringEditor\",\"id\":\"p1133\"}}},{\"type\":\"object\",\"name\":\"TableColumn\",\"id\":\"p1134\",\"attributes\":{\"field\":\"governing_equations\",\"title\":\"Governing Equations\",\"formatter\":{\"type\":\"object\",\"name\":\"StringFormatter\",\"id\":\"p1135\"},\"editor\":{\"type\":\"object\",\"name\":\"StringEditor\",\"id\":\"p1136\"}}}],\"index_position\":null}}],\"callbacks\":{\"type\":\"map\"}}};\n  const render_items = [{\"docid\":\"c59ff363-133a-4bc1-97ca-261540b95dd3\",\"roots\":{\"p1137\":\"2b7b1118-2693-4f2e-9907-52667d058763\"},\"root_ids\":[\"p1137\"]}];\n  root.Bokeh.embed.embed_items_notebook(docs_json, render_items);\n  }\n  if (root.Bokeh !== undefined) {\n    embed_document(root);\n  } else {\n    let attempts = 0;\n    const timer = setInterval(function(root) {\n      if (root.Bokeh !== undefined) {\n        clearInterval(timer);\n        embed_document(root);\n      } else {\n        attempts++;\n        if (attempts > 100) {\n          clearInterval(timer);\n          console.log(\"Bokeh: ERROR: Unable to run BokehJS code because BokehJS library is missing\");\n        }\n      }\n    }, 10, root)\n  }\n})(window);",
      "application/vnd.bokehjs_exec.v0+json": ""
     },
     "metadata": {
      "application/vnd.bokehjs_exec.v0+json": {
       "id": "p1137"
      }
     },
     "output_type": "display_data"
    }
   ],
   "source": [
    "data_table = create_data_table([\"project_name\", \"time_domain\", \"physics_scope\", \"system_type\", \"system_location\", \"loads\", \"governing_equations\"])\n",
    "show(data_table)"
   ]
  },
  {
   "cell_type": "markdown",
   "metadata": {},
   "source": [
    "## Distribution"
   ]
  },
  {
   "cell_type": "markdown",
   "metadata": {},
   "source": []
  },
  {
   "cell_type": "code",
   "execution_count": 4,
   "metadata": {
    "tags": [
     "hide-input"
    ]
   },
   "outputs": [
    {
     "data": {
      "text/html": [
       "\n",
       "  <div id=\"7c971846-06da-4209-9960-f683403e0a5f\" data-root-id=\"p1284\" style=\"display: contents;\"></div>\n"
      ]
     },
     "metadata": {},
     "output_type": "display_data"
    },
    {
     "data": {
      "application/javascript": "(function(root) {\n  function embed_document(root) {\n  const docs_json = {\"b3e8134f-d993-4e2e-9f3d-d2626866bd2c\":{\"version\":\"3.1.0\",\"title\":\"Bokeh Application\",\"defs\":[],\"roots\":[{\"type\":\"object\",\"name\":\"DataTable\",\"id\":\"p1284\",\"attributes\":{\"source\":{\"type\":\"object\",\"name\":\"ColumnDataSource\",\"id\":\"p1002\",\"attributes\":{\"selected\":{\"type\":\"object\",\"name\":\"Selection\",\"id\":\"p1004\",\"attributes\":{\"indices\":[],\"line_indices\":[]}},\"selection_policy\":{\"type\":\"object\",\"name\":\"UnionRenderers\",\"id\":\"p1003\"},\"data\":{\"type\":\"map\",\"entries\":[[\"project_name\",[\"FLORIS\",\"FLASC\",\"OpenFAST\",\"WEIS\"]],[\"github_account\",[\"nrel\",\"nrel\",\"openfast\",\"wisdem\"]],[\"github_repo\",[\"floris\",\"flasc\",\"openfast\",\"weis\"]],[\"primary_use\",[\"physics\",\"data analysis\",\"physics\",\"design\"]],[\"active_funding\",[true,true,true,true]],[\"time_domain\",[\"steady\",null,\"unsteady\",\"unsteady\"]],[\"physics_scope\",[[\"farm\"],null,\"turbine\",\"turbine\"]],[\"system_type\",[[\"farm\"],null,\"turbine\",\"turbine\"]],[\"system_location\",[\"any\",null,[\"any\"],[\"any\"]]],[\"loads\",[false,null,[true],[true]]],[\"governing_equations\",[[\"steady-state analytical fluid dynamics\"],null,[\"Blade Element Momentum Theory\",\"Geomtrically Exact Beam Theory\",\"Engineering models\"],null]],[\"supported_platforms\",[[\"any\"],[\"any\"],[\"any\"],[\"macOS\",\"Linux\"]]],[\"package_manager\",[[\"PyPI\",\"conda-forge\"],[\"PyPI\"],[\"Homebrew\",\"conda-forge\"],null]],[\"package_manager_url\",[[\"https://PyPI.org/project/FLORIS/\",\"https://anaconda.org/conda-forge/floris\"],[\"https://PyPI.org/project/FlASC/\"],[\"https://formulae.brew.sh/formula/openfast\",\"https://anaconda.org/conda-forge/openfast\"],null]],[\"installation_complexity\",[1,1,1,5]],[\"documentation_url\",[\"https://nrel.github.io/floris/intro.html\",\"https://flasc.readthedocs.io/\",\"https://openfast.readthedocs.io/\",\"https://weis.readthedocs.io/en/latest/\"]],[\"user_docs\",[true,true,true,false]],[\"developer_docs\",[true,false,false,false]],[\"api_docs\",[true,false,false,false]],[\"cli\",[false,false,true,false]],[\"installation\",[true,true,true,true]],[\"getting_started\",[true,true,false,false]],[\"examples_tutorials\",[true,true,false,true]],[\"readability\",[7,null,5,null]],[\"project_coverage\",[8,null,6,null]]]}}},\"view\":{\"type\":\"object\",\"name\":\"CDSView\",\"id\":\"p1288\",\"attributes\":{\"filter\":{\"type\":\"object\",\"name\":\"AllIndices\",\"id\":\"p1289\"}}},\"columns\":[{\"type\":\"object\",\"name\":\"TableColumn\",\"id\":\"p1272\",\"attributes\":{\"field\":\"supported_platforms\",\"title\":\"Supported Platforms\",\"formatter\":{\"type\":\"object\",\"name\":\"StringFormatter\",\"id\":\"p1273\"},\"editor\":{\"type\":\"object\",\"name\":\"StringEditor\",\"id\":\"p1274\"}}},{\"type\":\"object\",\"name\":\"TableColumn\",\"id\":\"p1275\",\"attributes\":{\"field\":\"package_manager\",\"title\":\"Package Manager\",\"formatter\":{\"type\":\"object\",\"name\":\"StringFormatter\",\"id\":\"p1276\"},\"editor\":{\"type\":\"object\",\"name\":\"StringEditor\",\"id\":\"p1277\"}}},{\"type\":\"object\",\"name\":\"TableColumn\",\"id\":\"p1278\",\"attributes\":{\"field\":\"package_manager_url\",\"title\":\"Package Manager Url\",\"formatter\":{\"type\":\"object\",\"name\":\"StringFormatter\",\"id\":\"p1279\"},\"editor\":{\"type\":\"object\",\"name\":\"StringEditor\",\"id\":\"p1280\"}}},{\"type\":\"object\",\"name\":\"TableColumn\",\"id\":\"p1281\",\"attributes\":{\"field\":\"installation_complexity\",\"title\":\"Installation Complexity\",\"formatter\":{\"type\":\"object\",\"name\":\"StringFormatter\",\"id\":\"p1282\"},\"editor\":{\"type\":\"object\",\"name\":\"StringEditor\",\"id\":\"p1283\"}}}],\"index_position\":null}}],\"callbacks\":{\"type\":\"map\"}}};\n  const render_items = [{\"docid\":\"b3e8134f-d993-4e2e-9f3d-d2626866bd2c\",\"roots\":{\"p1284\":\"7c971846-06da-4209-9960-f683403e0a5f\"},\"root_ids\":[\"p1284\"]}];\n  root.Bokeh.embed.embed_items_notebook(docs_json, render_items);\n  }\n  if (root.Bokeh !== undefined) {\n    embed_document(root);\n  } else {\n    let attempts = 0;\n    const timer = setInterval(function(root) {\n      if (root.Bokeh !== undefined) {\n        clearInterval(timer);\n        embed_document(root);\n      } else {\n        attempts++;\n        if (attempts > 100) {\n          clearInterval(timer);\n          console.log(\"Bokeh: ERROR: Unable to run BokehJS code because BokehJS library is missing\");\n        }\n      }\n    }, 10, root)\n  }\n})(window);",
      "application/vnd.bokehjs_exec.v0+json": ""
     },
     "metadata": {
      "application/vnd.bokehjs_exec.v0+json": {
       "id": "p1284"
      }
     },
     "output_type": "display_data"
    }
   ],
   "source": [
    "data_table = create_data_table([\"supported_platforms\", \"package_manager\", \"package_manager_url\", \"installation_complexity\"])\n",
    "show(data_table)"
   ]
  },
  {
   "cell_type": "markdown",
   "metadata": {},
   "source": [
    "## Documentation"
   ]
  },
  {
   "cell_type": "code",
   "execution_count": 5,
   "metadata": {
    "tags": [
     "hide-input"
    ]
   },
   "outputs": [
    {
     "data": {
      "text/html": [
       "\n",
       "  <div id=\"a7d9e9c1-f3a5-4639-adda-bb96765f048d\" data-root-id=\"p1432\" style=\"display: contents;\"></div>\n"
      ]
     },
     "metadata": {},
     "output_type": "display_data"
    },
    {
     "data": {
      "application/javascript": "(function(root) {\n  function embed_document(root) {\n  const docs_json = {\"59f9002d-79dd-409d-954a-8228cec833ed\":{\"version\":\"3.1.0\",\"title\":\"Bokeh Application\",\"defs\":[],\"roots\":[{\"type\":\"object\",\"name\":\"DataTable\",\"id\":\"p1432\",\"attributes\":{\"source\":{\"type\":\"object\",\"name\":\"ColumnDataSource\",\"id\":\"p1002\",\"attributes\":{\"selected\":{\"type\":\"object\",\"name\":\"Selection\",\"id\":\"p1004\",\"attributes\":{\"indices\":[],\"line_indices\":[]}},\"selection_policy\":{\"type\":\"object\",\"name\":\"UnionRenderers\",\"id\":\"p1003\"},\"data\":{\"type\":\"map\",\"entries\":[[\"project_name\",[\"FLORIS\",\"FLASC\",\"OpenFAST\",\"WEIS\"]],[\"github_account\",[\"nrel\",\"nrel\",\"openfast\",\"wisdem\"]],[\"github_repo\",[\"floris\",\"flasc\",\"openfast\",\"weis\"]],[\"primary_use\",[\"physics\",\"data analysis\",\"physics\",\"design\"]],[\"active_funding\",[true,true,true,true]],[\"time_domain\",[\"steady\",null,\"unsteady\",\"unsteady\"]],[\"physics_scope\",[[\"farm\"],null,\"turbine\",\"turbine\"]],[\"system_type\",[[\"farm\"],null,\"turbine\",\"turbine\"]],[\"system_location\",[\"any\",null,[\"any\"],[\"any\"]]],[\"loads\",[false,null,[true],[true]]],[\"governing_equations\",[[\"steady-state analytical fluid dynamics\"],null,[\"Blade Element Momentum Theory\",\"Geomtrically Exact Beam Theory\",\"Engineering models\"],null]],[\"supported_platforms\",[[\"any\"],[\"any\"],[\"any\"],[\"macOS\",\"Linux\"]]],[\"package_manager\",[[\"PyPI\",\"conda-forge\"],[\"PyPI\"],[\"Homebrew\",\"conda-forge\"],null]],[\"package_manager_url\",[[\"https://PyPI.org/project/FLORIS/\",\"https://anaconda.org/conda-forge/floris\"],[\"https://PyPI.org/project/FlASC/\"],[\"https://formulae.brew.sh/formula/openfast\",\"https://anaconda.org/conda-forge/openfast\"],null]],[\"installation_complexity\",[1,1,1,5]],[\"documentation_url\",[\"https://nrel.github.io/floris/intro.html\",\"https://flasc.readthedocs.io/\",\"https://openfast.readthedocs.io/\",\"https://weis.readthedocs.io/en/latest/\"]],[\"user_docs\",[true,true,true,false]],[\"developer_docs\",[true,false,false,false]],[\"api_docs\",[true,false,false,false]],[\"cli\",[false,false,true,false]],[\"installation\",[true,true,true,true]],[\"getting_started\",[true,true,false,false]],[\"examples_tutorials\",[true,true,false,true]],[\"readability\",[7,null,5,null]],[\"project_coverage\",[8,null,6,null]]]}}},\"view\":{\"type\":\"object\",\"name\":\"CDSView\",\"id\":\"p1436\",\"attributes\":{\"filter\":{\"type\":\"object\",\"name\":\"AllIndices\",\"id\":\"p1437\"}}},\"columns\":[{\"type\":\"object\",\"name\":\"TableColumn\",\"id\":\"p1402\",\"attributes\":{\"field\":\"documentation_url\",\"title\":\"Documentation Url\",\"formatter\":{\"type\":\"object\",\"name\":\"StringFormatter\",\"id\":\"p1403\"},\"editor\":{\"type\":\"object\",\"name\":\"StringEditor\",\"id\":\"p1404\"}}},{\"type\":\"object\",\"name\":\"TableColumn\",\"id\":\"p1405\",\"attributes\":{\"field\":\"user_docs\",\"title\":\"User Docs\",\"formatter\":{\"type\":\"object\",\"name\":\"StringFormatter\",\"id\":\"p1406\"},\"editor\":{\"type\":\"object\",\"name\":\"StringEditor\",\"id\":\"p1407\"}}},{\"type\":\"object\",\"name\":\"TableColumn\",\"id\":\"p1408\",\"attributes\":{\"field\":\"developer_docs\",\"title\":\"Developer Docs\",\"formatter\":{\"type\":\"object\",\"name\":\"StringFormatter\",\"id\":\"p1409\"},\"editor\":{\"type\":\"object\",\"name\":\"StringEditor\",\"id\":\"p1410\"}}},{\"type\":\"object\",\"name\":\"TableColumn\",\"id\":\"p1411\",\"attributes\":{\"field\":\"api_docs\",\"title\":\"Api Docs\",\"formatter\":{\"type\":\"object\",\"name\":\"StringFormatter\",\"id\":\"p1412\"},\"editor\":{\"type\":\"object\",\"name\":\"StringEditor\",\"id\":\"p1413\"}}},{\"type\":\"object\",\"name\":\"TableColumn\",\"id\":\"p1414\",\"attributes\":{\"field\":\"cli\",\"title\":\"Cli\",\"formatter\":{\"type\":\"object\",\"name\":\"StringFormatter\",\"id\":\"p1415\"},\"editor\":{\"type\":\"object\",\"name\":\"StringEditor\",\"id\":\"p1416\"}}},{\"type\":\"object\",\"name\":\"TableColumn\",\"id\":\"p1417\",\"attributes\":{\"field\":\"installation\",\"title\":\"Installation\",\"formatter\":{\"type\":\"object\",\"name\":\"StringFormatter\",\"id\":\"p1418\"},\"editor\":{\"type\":\"object\",\"name\":\"StringEditor\",\"id\":\"p1419\"}}},{\"type\":\"object\",\"name\":\"TableColumn\",\"id\":\"p1420\",\"attributes\":{\"field\":\"getting_started\",\"title\":\"Getting Started\",\"formatter\":{\"type\":\"object\",\"name\":\"StringFormatter\",\"id\":\"p1421\"},\"editor\":{\"type\":\"object\",\"name\":\"StringEditor\",\"id\":\"p1422\"}}},{\"type\":\"object\",\"name\":\"TableColumn\",\"id\":\"p1423\",\"attributes\":{\"field\":\"examples_tutorials\",\"title\":\"Examples Tutorials\",\"formatter\":{\"type\":\"object\",\"name\":\"StringFormatter\",\"id\":\"p1424\"},\"editor\":{\"type\":\"object\",\"name\":\"StringEditor\",\"id\":\"p1425\"}}},{\"type\":\"object\",\"name\":\"TableColumn\",\"id\":\"p1426\",\"attributes\":{\"field\":\"readability\",\"title\":\"Readability\",\"formatter\":{\"type\":\"object\",\"name\":\"StringFormatter\",\"id\":\"p1427\"},\"editor\":{\"type\":\"object\",\"name\":\"StringEditor\",\"id\":\"p1428\"}}},{\"type\":\"object\",\"name\":\"TableColumn\",\"id\":\"p1429\",\"attributes\":{\"field\":\"project_coverage\",\"title\":\"Project Coverage\",\"formatter\":{\"type\":\"object\",\"name\":\"StringFormatter\",\"id\":\"p1430\"},\"editor\":{\"type\":\"object\",\"name\":\"StringEditor\",\"id\":\"p1431\"}}}],\"index_position\":null}}],\"callbacks\":{\"type\":\"map\"}}};\n  const render_items = [{\"docid\":\"59f9002d-79dd-409d-954a-8228cec833ed\",\"roots\":{\"p1432\":\"a7d9e9c1-f3a5-4639-adda-bb96765f048d\"},\"root_ids\":[\"p1432\"]}];\n  root.Bokeh.embed.embed_items_notebook(docs_json, render_items);\n  }\n  if (root.Bokeh !== undefined) {\n    embed_document(root);\n  } else {\n    let attempts = 0;\n    const timer = setInterval(function(root) {\n      if (root.Bokeh !== undefined) {\n        clearInterval(timer);\n        embed_document(root);\n      } else {\n        attempts++;\n        if (attempts > 100) {\n          clearInterval(timer);\n          console.log(\"Bokeh: ERROR: Unable to run BokehJS code because BokehJS library is missing\");\n        }\n      }\n    }, 10, root)\n  }\n})(window);",
      "application/vnd.bokehjs_exec.v0+json": ""
     },
     "metadata": {
      "application/vnd.bokehjs_exec.v0+json": {
       "id": "p1432"
      }
     },
     "output_type": "display_data"
    }
   ],
   "source": [
    "data_table = create_data_table([\"documentation_url\", \"user_docs\", \"developer_docs\", \"api_docs\", \"cli\", \"installation\", \"getting_started\", \"examples_tutorials\", \"readability\", \"project_coverage\"])\n",
    "show(data_table)"
   ]
  },
  {
   "cell_type": "markdown",
   "metadata": {},
   "source": [
    "## Testing"
   ]
  },
  {
   "cell_type": "markdown",
   "metadata": {},
   "source": [
    "## Interfaces"
   ]
  },
  {
   "cell_type": "markdown",
   "metadata": {},
   "source": [
    "(attr_descriptions)=\n",
    "\n",
    "# Attribute Descriptions\n",
    "We need a way to relate software projects to each other to understand how the combination of\n",
    "software projects defines the landscape of WETO funded software. These attributes are intended\n",
    "to answer questions about the health, quality, and maturity of the portfolio.\n",
    "\n",
    "## General\n",
    "- Parent Project:\n",
    "  - User supplied\n",
    "- Source code URL\n",
    "  - User supplied\n",
    "- Funding status\n",
    "  - User supplied\n",
    "- Funding history including amounts and agencies\n",
    "  - User supplied\n",
    "- Last Commit Date\n",
    "  - git / GitHub\n",
    "- Last Release Date\n",
    "  - GitHub\n",
    "- First Release Date\n",
    "  - GitHub\n",
    "- Active development?\n",
    "  - User supplied\n",
    "  - Possibility to determine a metric and automate\n",
    "- Primary programming langauge\n",
    "  - GitHub\n",
    "\n",
    "## Physics domain\n",
    "- Time domain\n",
    "  - User supplied\n",
    "- Loads\n",
    "  - User supplied\n",
    "- Scope (Turbine, farm, system, Land-based, offshore, or both)\n",
    "  - User supplied\n",
    "- Listing of governing equations or assumptions\n",
    "  - User supplied\n",
    "\t- i.e. finite elements structural model, timoshenko vs euler beam, BEM, RANS vs LES\n",
    "\n",
    "## Distribution\n",
    "- Supported platforms (OS or ecosystem)\n",
    "  - User supplied\n",
    "- Package manager?\n",
    "  - User configure link to third party, automated retrieval\n",
    "  - GitHub Release, PyPI, APT, Homebrew, etc\n",
    "- Level of complexity from start to finish\n",
    "  - User provided\n",
    "\n",
    "## Documentation\n",
    "- User docs\n",
    "  - User configure link to third party, automated retrieval\n",
    "- Developer docs\n",
    "  - User configure link to third party, automated retrieval\n",
    "- API docs\n",
    "  - User configure link to third party, automated retrieval\n",
    "- Installation\n",
    "  - User configure link to third party, automated retrieval\n",
    "- Getting started\n",
    "  - User configure link to third party, automated retrieval\n",
    "- Examples / Tutorials\n",
    "  - User configure link to third party, automated retrieval\n",
    "- Quality of composition\n",
    "  - User supplied\n",
    "- Portion of code covered\n",
    "  - User supplied\n",
    "\n",
    "## Testing\n",
    "- Automated testing\n",
    "  - User configure link to third party, automated retrieval\n",
    "- Continuous testing\n",
    "  - User configure link to third party, automated retrieval\n",
    "- Regression tests\n",
    "  - User configure link to third party, automated retrieval\n",
    "- Unit tests\n",
    "  - User configure link to third party, automated retrieval\n",
    "- Documented\n",
    "  - User supplied\n",
    "- Speed / performance impacts\n",
    "  - User supplied\n",
    "\n",
    "## Interfaces\n",
    "- Included interfaces to other languages\n",
    "  - User supplied\n",
    "\n",
    "### API's\n",
    "- Documentation status\n",
    "- Design communicated?\n",
    "- How comprehensive?\n",
    "  - How much of the code can you reach via a public API?\n",
    "\n",
    "### Input / Output\n",
    "- Stable file structure?\n",
    "  - User supplied\n",
    "- Custom file type or using a common convention?\n",
    "  - User supplied\n",
    "\n",
    "### CLI\n",
    "- Documented?\n",
    "  - User supplied\n",
    "- Relevant and clear flags?\n",
    "  - User supplied\n",
    "\n",
    "## Community Health\n",
    "- Open Issues\n",
    "- Open Pull Requests\n",
    "- Open Discussions\n",
    "- Average open time since last release\n",
    "- Discussion / Issue response rate\n",
    "- Code review rate (time between PR ready for review and first comment)\n",
    "- Contributors outside of parent org"
   ]
  },
  {
   "cell_type": "markdown",
   "metadata": {},
   "source": []
  }
 ],
 "metadata": {
  "kernelspec": {
   "display_name": "weto",
   "language": "python",
   "name": "python3"
  },
  "language_info": {
   "codemirror_mode": {
    "name": "ipython",
    "version": 3
   },
   "file_extension": ".py",
   "mimetype": "text/x-python",
   "name": "python",
   "nbconvert_exporter": "python",
   "pygments_lexer": "ipython3",
   "version": "3.11.0"
  },
  "orig_nbformat": 4
 },
 "nbformat": 4,
 "nbformat_minor": 2
}
