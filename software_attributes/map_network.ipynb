{
 "cells": [
  {
   "cell_type": "code",
   "execution_count": null,
   "metadata": {},
   "outputs": [],
   "source": [
    "import yaml\n",
    "from pathlib import Path\n",
    "\n",
    "models = [\n",
    "    \"floris\",\n",
    "    \"openfast\",\n",
    "    \"rosco\",\n",
    "    \"weis\",\n",
    "    \"wisdem\",\n",
    "]\n",
    "model_connectivity = {}\n",
    "for model in models:\n",
    "    attributes = yaml.safe_load( open(Path(\"weto_software\", f\"{model}.yaml\"), \"r\") )\n",
    "    model_connectivity[model] = attributes[\"downstream_integrations\"]\n",
    "# print(model_connectivity)"
   ]
  },
  {
   "cell_type": "code",
   "execution_count": null,
   "metadata": {},
   "outputs": [],
   "source": [
    "import networkx as nx\n",
    "network_graph = nx.DiGraph()\n",
    "for model, connections in model_connectivity.items():\n",
    "    for c in connections:\n",
    "        weight = 1 if c[1] == \"direct\" else 2\n",
    "        network_graph.add_edge(model, c[0], weight=weight)"
   ]
  },
  {
   "cell_type": "code",
   "execution_count": null,
   "metadata": {},
   "outputs": [],
   "source": [
    "import matplotlib.pyplot as plt\n",
    "\n",
    "edges_direct = [(u, v) for (u, v, d) in network_graph.edges(data=True) if d[\"weight\"] == 1]\n",
    "edges_indirect = [(u, v) for (u, v, d) in network_graph.edges(data=True) if d[\"weight\"] == 2]\n",
    "\n",
    "layout = nx.nx_pydot.graphviz_layout(network_graph, prog=\"dot\")\n",
    "# pos = nx.kamada_kawai_layout(network_graph)\n",
    "# pos = nx.planar_layout(network_graph)\n",
    "# pos = nx.spring_layout(network_graph, seed=7)  # positions for all nodes - seed for reproducibility\n",
    "\n",
    "# nodes\n",
    "nx.draw_networkx_nodes(\n",
    "    network_graph,\n",
    "    layout,\n",
    "    # node_size=1000\n",
    ")\n",
    "\n",
    "# edges\n",
    "nx.draw_networkx_edges(\n",
    "    network_graph,\n",
    "    layout,\n",
    "    edgelist=edges_direct,\n",
    "    width=3\n",
    ")\n",
    "nx.draw_networkx_edges(\n",
    "    network_graph,\n",
    "    layout,\n",
    "    edgelist=edges_indirect,\n",
    "    width=3,\n",
    "    # alpha=0.5,\n",
    "    # edge_color=\"b\",\n",
    "    style=\":\"\n",
    ")\n",
    "\n",
    "# node labels\n",
    "nx.draw_networkx_labels(\n",
    "    network_graph,\n",
    "    layout,\n",
    "    font_size=20,\n",
    "    font_family=\"sans-serif\"\n",
    ")\n",
    "# edge weight labels\n",
    "# edge_labels = nx.get_edge_attributes(network_graph, \"weight\")\n",
    "# nx.draw_networkx_edge_labels(network_graph, pos, edge_labels)\n",
    "\n",
    "ax = plt.gca()\n",
    "ax.margins(0.08)\n",
    "plt.axis(\"off\")\n",
    "plt.tight_layout()\n",
    "plt.show()"
   ]
  },
  {
   "cell_type": "code",
   "execution_count": null,
   "metadata": {},
   "outputs": [],
   "source": []
  }
 ],
 "metadata": {
  "kernelspec": {
   "display_name": "weto",
   "language": "python",
   "name": "python3"
  },
  "language_info": {
   "codemirror_mode": {
    "name": "ipython",
    "version": 3
   },
   "file_extension": ".py",
   "mimetype": "text/x-python",
   "name": "python",
   "nbconvert_exporter": "python",
   "pygments_lexer": "ipython3",
   "version": "3.11.0"
  },
  "orig_nbformat": 4
 },
 "nbformat": 4,
 "nbformat_minor": 2
}
